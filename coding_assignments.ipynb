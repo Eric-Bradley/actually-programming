{
 "cells": [
  {
   "cell_type": "markdown",
   "id": "34662f1c",
   "metadata": {},
   "source": [
    "First Assignment"
   ]
  },
  {
   "cell_type": "code",
   "execution_count": null,
   "id": "77faaeb8",
   "metadata": {},
   "outputs": [],
   "source": [
    "print('Hello Christopher Turnbull')"
   ]
  },
  {
   "cell_type": "markdown",
   "id": "16b88625",
   "metadata": {},
   "source": [
    "----------------------------------------------------------------------------------"
   ]
  },
  {
   "cell_type": "markdown",
   "id": "ed9d6d59",
   "metadata": {},
   "source": [
    "Very First Function"
   ]
  },
  {
   "cell_type": "code",
   "execution_count": null,
   "id": "06ae453c",
   "metadata": {},
   "outputs": [],
   "source": [
    "def add_numbers(a, b):\n",
    "    return a + b\n",
    "\n",
    "print(add_numbers(5, 7))"
   ]
  },
  {
   "cell_type": "markdown",
   "id": "d5dba5e9",
   "metadata": {},
   "source": [
    "----------------------------------------------------------------------------------"
   ]
  },
  {
   "cell_type": "markdown",
   "id": "21253e9f",
   "metadata": {},
   "source": [
    "\"Actually Programming\" Assignment"
   ]
  },
  {
   "cell_type": "code",
   "execution_count": 7,
   "id": "4b48645a",
   "metadata": {},
   "outputs": [
    {
     "name": "stdout",
     "output_type": "stream",
     "text": [
      "The price of bread is 1.0\n",
      "The price of milk is 3.0\n",
      "Your total today will be 4.24 including tax.\n"
     ]
    }
   ],
   "source": [
    "bread = 1.00\n",
    "milk = 3.00\n",
    "\n",
    "print(\"The price of bread is\", bread)\n",
    "print(\"The price of milk is\", milk)\n",
    "\n",
    "def total(a, b):\n",
    "    items = a + b\n",
    "    total_price = items * 1.06\n",
    "    return total_price\n",
    "\n",
    "print(\"Your total today will be\", total(bread, milk), \"including tax.\")"
   ]
  },
  {
   "cell_type": "markdown",
   "id": "8d5f0f95",
   "metadata": {},
   "source": [
    "----------------------------------------------------------------------------------"
   ]
  },
  {
   "cell_type": "markdown",
   "id": "b0013745",
   "metadata": {},
   "source": [
    "Utilizing Functions Assignment"
   ]
  },
  {
   "cell_type": "code",
   "execution_count": 1,
   "id": "2f266d1b",
   "metadata": {},
   "outputs": [
    {
     "name": "stdout",
     "output_type": "stream",
     "text": [
      "Your name is, Eric!\n"
     ]
    }
   ],
   "source": [
    "user_name = input(\"What is your name>:\")\n",
    "print(\"Your name is,\", user_name + \"!\")"
   ]
  },
  {
   "cell_type": "code",
   "execution_count": null,
   "id": "afea8297",
   "metadata": {},
   "outputs": [
    {
     "name": "stdout",
     "output_type": "stream",
     "text": [
      "The length of the list is 3\n",
      "The sum of the list is 6\n"
     ]
    }
   ],
   "source": [
    "x = [1, 2, 3] #this is a list\n",
    "\n",
    "length = len(x)\n",
    "print(\"The length of the list is\", length)\n",
    "\n",
    "Sum = sum(x)\n",
    "print(\"The sum of the list is\", Sum)"
   ]
  },
  {
   "cell_type": "markdown",
   "id": "8db26c07",
   "metadata": {},
   "source": [
    "----------------------------------------------------------------------------------"
   ]
  },
  {
   "cell_type": "markdown",
   "id": "5b39320f",
   "metadata": {},
   "source": [
    "Manipulating variables assignment."
   ]
  },
  {
   "cell_type": "markdown",
   "id": "522c0f95",
   "metadata": {},
   "source": [
    "1. Write a Python program that:\n",
    "\n",
    "Asks the user for the price of a coffee and a pastry.\n",
    "Adds the prices together.\n",
    "Prints the total cost."
   ]
  },
  {
   "cell_type": "code",
   "execution_count": 6,
   "id": "2f4c0b9c",
   "metadata": {},
   "outputs": [
    {
     "name": "stdout",
     "output_type": "stream",
     "text": [
      "The total price is 8.56\n"
     ]
    }
   ],
   "source": [
    "coffeePrice = input(\"What is the price of coffee? >:\")\n",
    "coffeePrice = float(coffeePrice)\n",
    "pastryPrice = input(\"What is the price of pastry? >:\")\n",
    "pastryPrice = float(pastryPrice)\n",
    "totalPrice = coffeePrice + pastryPrice\n",
    "print(\"The total price is\", totalPrice)"
   ]
  },
  {
   "cell_type": "markdown",
   "id": "f1dd205f",
   "metadata": {},
   "source": [
    "----------------------------------------------------------------------------------"
   ]
  },
  {
   "cell_type": "markdown",
   "id": "35d4690a",
   "metadata": {},
   "source": [
    "Implementing Conditional Logic"
   ]
  },
  {
   "cell_type": "code",
   "execution_count": 6,
   "id": "f1568452",
   "metadata": {},
   "outputs": [
    {
     "name": "stdout",
     "output_type": "stream",
     "text": [
      "It's either super hot or super cold. Either way, STAY INSIDE!.\n"
     ]
    }
   ],
   "source": [
    "temp = int(input(\"What is the temperature in celcius? >:\")) # storing input as an integer\n",
    "raining = input(\"Is it raining? (yes/no) >:\").lower() # storing input as a string and converting to lowercase\n",
    "\n",
    "if temp >= 1 and temp <= 20:\n",
    "    print(\"You might want to wear a jacket.\")\n",
    "    if raining == \"yes\":\n",
    "        print(\"Don't forget your umbrella!\")\n",
    "elif temp <= 0:\n",
    "    print(\"You'd better BUNDLE UP!\")\n",
    "    if raining == \"yes\":\n",
    "        print(\"Don't forget your SNOW BOOTS!\")\n",
    "elif temp > 20 and temp <= 38:\n",
    "    print(\"You can wear a t-shirt today!\")\n",
    "    if raining == \"yes\":\n",
    "        print(\"Don't forget your umbrella!\")\n",
    "else:\n",
    "    print(\"It's either super hot or super cold. Either way, STAY INSIDE!.\")"
   ]
  },
  {
   "cell_type": "markdown",
   "id": "72046ebe",
   "metadata": {},
   "source": [
    "----------------------------------------------------------------------------------"
   ]
  },
  {
   "cell_type": "markdown",
   "id": "372d3753",
   "metadata": {},
   "source": [
    "Accessing Elements"
   ]
  },
  {
   "cell_type": "code",
   "execution_count": 3,
   "id": "55f3c356",
   "metadata": {},
   "outputs": [
    {
     "name": "stdout",
     "output_type": "stream",
     "text": [
      "Aria\n",
      "Eric\n"
     ]
    }
   ],
   "source": [
    "erics_dict = {}\n",
    "\n",
    "randoms = ['Scooby', 'Aria', 'Dad']\n",
    "\n",
    "randoms[2] = 'Father'\n",
    "\n",
    "# print(randoms)\n",
    "\n",
    "erics_dict['name'] = 'Eric'\n",
    "\n",
    "# print(erics_dict)\n",
    "\n",
    "print(randoms[1])\n",
    "print(erics_dict['name'])"
   ]
  },
  {
   "cell_type": "markdown",
   "metadata": {},
   "source": [
    "----------------------------------------------------------------------------------"
   ]
  },
  {
   "cell_type": "markdown",
   "metadata": {},
   "source": [
    "Applications of Lists and Dictionaries"
   ]
  },
  {
   "cell_type": "code",
   "execution_count": 19,
   "id": "8f0c0362",
   "metadata": {},
   "outputs": [
    {
     "name": "stdout",
     "output_type": "stream",
     "text": [
      "[{'Title': 'Tribe', 'Author': 'Sebastian Junger', 'Year Published': 2019, 'Available': True}, {'Title': 'Sapiens', 'Author': 'Yuval Harrari', 'Year Published': 2016, 'Available': True}]\n",
      "---------------------------------\n",
      "{'Title': 'Tribe', 'Author': 'Sebastian Junger', 'Year Published': 2019, 'Available': False}\n",
      "---------------------------------\n"
     ]
    },
    {
     "data": {
      "text/plain": [
       "[{'Title': 'Tribe',\n",
       "  'Author': 'Sebastian Junger',\n",
       "  'Year Published': 2019,\n",
       "  'Available': False},\n",
       " {'Title': 'Sapiens',\n",
       "  'Author': 'Yuval Harrari',\n",
       "  'Year Published': 2016,\n",
       "  'Available': True},\n",
       " {'Title': 'The Great Gatsby',\n",
       "  'Author': 'F. Scott Fitzgerald',\n",
       "  'Year Published': 1925,\n",
       "  'Available': True}]"
      ]
     },
     "metadata": {},
     "output_type": "display_data"
    }
   ],
   "source": [
    "library = [{\n",
    "    'Title': 'Tribe',\n",
    "    'Author': 'Sebastian Junger',\n",
    "    'Year Published' : 2019,\n",
    "    'Available' : True,\n",
    "    },\n",
    "    {\n",
    "    'Title': 'Sapiens',\n",
    "    'Author': 'Yuval Harrari',\n",
    "    'Year Published' : 2016,\n",
    "    'Available' : True,\n",
    "    }]\n",
    "\n",
    "print(library)\n",
    "print(\"---------------------------------\")\n",
    "\n",
    "library[0][\"Available\"] = False\n",
    "\n",
    "print(library[0])\n",
    "print(\"---------------------------------\")\n",
    "\n",
    "gatsby = {\n",
    "    'Title': 'The Great Gatsby',\n",
    "    'Author': 'F. Scott Fitzgerald',\n",
    "    'Year Published' : 1925,\n",
    "    'Available' : True,\n",
    "    }\n",
    "\n",
    "library.append(gatsby)\n",
    "\n",
    "display(library)"
   ]
  },
  {
   "cell_type": "markdown",
   "id": "b955f23a",
   "metadata": {},
   "source": [
    "----------------------------------------------------------------------------------"
   ]
  },
  {
   "cell_type": "markdown",
   "id": "f4061611",
   "metadata": {},
   "source": [
    "Applying Loops Assignment\n",
    "\n",
    "Objective: Calculate average grades and determine pass/fail status for students."
   ]
  },
  {
   "cell_type": "code",
   "execution_count": null,
   "id": "664bd8e0",
   "metadata": {},
   "outputs": [
    {
     "name": "stdout",
     "output_type": "stream",
     "text": [
      "\n",
      "Student Grades.\n",
      "      name                grades    average status\n",
      "0     Eric    [69.0, 69.0, 69.0]  69.000000   Fail\n",
      "1    Chris   [89.0, 98.0, 100.0]  95.666667   Pass\n",
      "2  Javonte  [100.0, 100.0, 99.0]  99.666667   Pass\n",
      "\n",
      "Class average is: 83.00\n",
      "High Performing Class!!!\n"
     ]
    }
   ],
   "source": [
    "import pandas as pd\n",
    "\n",
    "students = []\n",
    "\n",
    "while True:\n",
    "    student_name = input(\"Enter student name (or type 'done' to finish): \")\n",
    "    if student_name.lower() == 'done':\n",
    "        break\n",
    "    grades = []\n",
    "    while True:\n",
    "        grade_input = input(f\"Enter a grade for {student_name} (or 'q' to finish grades): \")\n",
    "        if grade_input.lower() == 'q':\n",
    "            break\n",
    "        try:\n",
    "            grade = float(grade_input)\n",
    "            grades.append(grade)\n",
    "        except ValueError:\n",
    "            print(\"Invalid input. Please enter a valid number.\")\n",
    "    if grades:  # Check if the list is not empty\n",
    "        average_grade = sum(grades) / len(grades)\n",
    "    else:\n",
    "        average_grade = 0.0  # Assign a default value if no grades are entered\n",
    "\n",
    "    if average_grade >= 70:\n",
    "        pass_fail_status = 'Pass'\n",
    "    else:\n",
    "        pass_fail_status = 'Fail'\n",
    "        \n",
    "    students.append({'name': student_name, 'grades': grades, 'average': average_grade, 'status': pass_fail_status})\n",
    "\n",
    "\n",
    "student_chart = pd.DataFrame(students)\n",
    "print(\"\\nStudent Grades.\")\n",
    "print(student_chart) # This will show you the final list of dictionaries\n",
    "print(f\"\\nClass average is: {class_average:.2f}\")\n",
    "\n",
    "\n",
    "class_average = sum(student['average'] for student in students) / len(students) if students else 0.0\n",
    "if class_average >= 80:\n",
    "    print(\"High Performing Class!!!\")\n",
    "else:\n",
    "    print(\"Y'all get yer ish together!\")\n",
    "\n",
    "    \n",
    "\n",
    "    "
   ]
  },
  {
   "cell_type": "markdown",
   "id": "de365785",
   "metadata": {},
   "source": [
    "----------------------------------------------------------------------------------"
   ]
  },
  {
   "cell_type": "markdown",
   "id": "c70e705a",
   "metadata": {},
   "source": [
    "Adding functions Parameters Assignment"
   ]
  },
  {
   "cell_type": "code",
   "execution_count": 8,
   "id": "cd11cabb",
   "metadata": {},
   "outputs": [
    {
     "name": "stdout",
     "output_type": "stream",
     "text": [
      "Simon Says: JUMP!\n"
     ]
    }
   ],
   "source": [
    "def follow_me(instruction = \"\"): # womp womp\n",
    "    instruction = input(\"What does Simon say?\")\n",
    "    if instruction == \"\":\n",
    "        instruction = \"nothing\"\n",
    "    print(\"Simon Says:\", instruction)\n",
    "\n",
    "follow_me()"
   ]
  },
  {
   "cell_type": "markdown",
   "id": "956d7092",
   "metadata": {},
   "source": [
    "----------------------------------------------------------------------------------"
   ]
  },
  {
   "cell_type": "markdown",
   "id": "252021f3",
   "metadata": {},
   "source": [
    "Returning Information From A Function Assignment"
   ]
  },
  {
   "cell_type": "code",
   "execution_count": 11,
   "id": "1434b288",
   "metadata": {},
   "outputs": [
    {
     "name": "stdout",
     "output_type": "stream",
     "text": [
      "You have chosen the path of the Jedi.\n"
     ]
    }
   ],
   "source": [
    "def luuuke_come_to_the_dark_side(decision = \"\"):\n",
    "    decision = input(\"Join us, Luke. Do you accept the power of the dark side? (yes/no) \")\n",
    "    if decision.lower() == \"yes\":\n",
    "        return \"Welcome to the dark side!\"\n",
    "    elif decision.lower() == \"no\":\n",
    "        return \"You have chosen the path of the Jedi.\"\n",
    "    else:\n",
    "        return \"Indecision is the path to the dark side.\"\n",
    "    \n",
    "decision = luuuke_come_to_the_dark_side()\n",
    "    \n",
    "print(decision)"
   ]
  },
  {
   "cell_type": "markdown",
   "id": "31863104",
   "metadata": {},
   "source": [
    "----------------------------------------------------------------------------------"
   ]
  },
  {
   "cell_type": "markdown",
   "id": "95e19ea4",
   "metadata": {},
   "source": [
    "Applying Custom Functions"
   ]
  },
  {
   "cell_type": "code",
   "execution_count": 17,
   "id": "bd351193",
   "metadata": {},
   "outputs": [
    {
     "name": "stdout",
     "output_type": "stream",
     "text": [
      "Hi eric It's sunny outside,  go to the park\n",
      "Hi eric It's rainy outside,  stay in for the day\n",
      "Hi sunny It's snowy outside,  go sledding\n",
      "Hi chris It's sunny outside,  go to the park\n",
      "Hi chris It's rainy outside,  stay in for the day\n",
      "Hi chris It's snowy outside,  go sledding\n",
      "That's not a valid weather condition for this question...\n",
      "Hi aria It's sunny outside,  go to the park\n",
      "Hi aria It's rainy outside,  stay in for the day\n",
      "Hi aria It's snowy outside,  go sledding\n",
      "That's not a valid weather condition for this question...\n",
      "Hi trico It's sunny outside,  go to the park\n"
     ]
    }
   ],
   "source": [
    "# setting default variables\n",
    "task_message = \"\" \n",
    "name = \"\"\n",
    "weather_condition = \"\"\n",
    "\n",
    "# defining our sub functions\n",
    "def sunny_activity(task_message, name): \n",
    "    print(\"Hi\", name, \"It's sunny outside, \", task_message)\n",
    "\n",
    "def rainy_activity(task_message, name):\n",
    "    print(\"Hi\", name, \"It's rainy outside, \", task_message)\n",
    "\n",
    "def snowy_activity(task_message, name):\n",
    "    print(\"Hi\", name, \"It's snowy outside, \", task_message)\n",
    "\n",
    "# defining our main function\n",
    "def activity_suggestion(task_message, weather_condition, name):\n",
    "    name = input(\"What is your name? \")\n",
    "    weather_condition = input(\"What's the weather like outside? sunny/rainy/snowy \")\n",
    "    if weather_condition == \"sunny\":\n",
    "        task_message = \"go to the park\"\n",
    "        sunny_activity(task_message, name)\n",
    "    elif weather_condition == \"rainy\":\n",
    "        task_message = \"stay in for the day\"\n",
    "        rainy_activity(task_message, name)\n",
    "    elif weather_condition == \"snowy\":\n",
    "        task_message = \"go sledding\"\n",
    "        snowy_activity(task_message, name)\n",
    "    else:\n",
    "        print(\"That's not a valid weather condition for this question...\")\n",
    "\n",
    "# testing 12 times\n",
    "activity_suggestion(task_message, weather_condition, name)\n",
    "activity_suggestion(task_message, weather_condition, name)\n",
    "activity_suggestion(task_message, weather_condition, name)\n",
    "activity_suggestion(task_message, weather_condition, name)\n",
    "activity_suggestion(task_message, weather_condition, name)\n",
    "activity_suggestion(task_message, weather_condition, name)\n",
    "activity_suggestion(task_message, weather_condition, name)\n",
    "activity_suggestion(task_message, weather_condition, name)\n",
    "activity_suggestion(task_message, weather_condition, name)\n",
    "activity_suggestion(task_message, weather_condition, name)\n",
    "activity_suggestion(task_message, weather_condition, name)\n",
    "activity_suggestion(task_message, weather_condition, name)\n"
   ]
  },
  {
   "cell_type": "markdown",
   "metadata": {},
   "source": [
    "----------------------------------------------------------------------------------"
   ]
  },
  {
   "cell_type": "markdown",
   "id": "5864cec0",
   "metadata": {},
   "source": [
    "Reading From Files"
   ]
  },
  {
   "cell_type": "code",
   "execution_count": 3,
   "id": "30314cf3",
   "metadata": {},
   "outputs": [
    {
     "data": {
      "text/html": [
       "<div>\n",
       "<style scoped>\n",
       "    .dataframe tbody tr th:only-of-type {\n",
       "        vertical-align: middle;\n",
       "    }\n",
       "\n",
       "    .dataframe tbody tr th {\n",
       "        vertical-align: top;\n",
       "    }\n",
       "\n",
       "    .dataframe thead th {\n",
       "        text-align: right;\n",
       "    }\n",
       "</style>\n",
       "<table border=\"1\" class=\"dataframe\">\n",
       "  <thead>\n",
       "    <tr style=\"text-align: right;\">\n",
       "      <th></th>\n",
       "      <th>user_id</th>\n",
       "      <th>Date received</th>\n",
       "      <th>Issue</th>\n",
       "      <th>Consumer complaint narrative</th>\n",
       "      <th>State</th>\n",
       "      <th>ZIP code</th>\n",
       "      <th>Submitted via</th>\n",
       "      <th>Date sent to company</th>\n",
       "      <th>Company response to consumer</th>\n",
       "      <th>Timely response?</th>\n",
       "      <th>Consumer disputed?</th>\n",
       "      <th>Complaint ID</th>\n",
       "    </tr>\n",
       "  </thead>\n",
       "  <tbody>\n",
       "    <tr>\n",
       "      <th>0</th>\n",
       "      <td>44fefdad-7045-4be5-890e-12e84ae6fdc9</td>\n",
       "      <td>1/27/2016</td>\n",
       "      <td>Account terms and changes</td>\n",
       "      <td>NaN</td>\n",
       "      <td>AL</td>\n",
       "      <td>35180</td>\n",
       "      <td>Phone</td>\n",
       "      <td>1/27/2016</td>\n",
       "      <td>Closed with explanation</td>\n",
       "      <td>Yes</td>\n",
       "      <td>No</td>\n",
       "      <td>1760486</td>\n",
       "    </tr>\n",
       "    <tr>\n",
       "      <th>1</th>\n",
       "      <td>c49d5d60-909f-406b-b7ff-51143fcb650b</td>\n",
       "      <td>8/26/2014</td>\n",
       "      <td>Account terms and changes</td>\n",
       "      <td>NaN</td>\n",
       "      <td>NC</td>\n",
       "      <td>278XX</td>\n",
       "      <td>Phone</td>\n",
       "      <td>8/29/2014</td>\n",
       "      <td>Closed with non-monetary relief</td>\n",
       "      <td>Yes</td>\n",
       "      <td>No</td>\n",
       "      <td>1001740</td>\n",
       "    </tr>\n",
       "    <tr>\n",
       "      <th>2</th>\n",
       "      <td>9b2cd5d2-900e-4052-831f-6489f6d568af</td>\n",
       "      <td>8/22/2012</td>\n",
       "      <td>Account terms and changes</td>\n",
       "      <td>NaN</td>\n",
       "      <td>TN</td>\n",
       "      <td>37205</td>\n",
       "      <td>Referral</td>\n",
       "      <td>8/23/2012</td>\n",
       "      <td>Closed with non-monetary relief</td>\n",
       "      <td>Yes</td>\n",
       "      <td>No</td>\n",
       "      <td>140039</td>\n",
       "    </tr>\n",
       "    <tr>\n",
       "      <th>3</th>\n",
       "      <td>b7e5b324-268e-4502-81a1-1a025673c2a0</td>\n",
       "      <td>5/7/2013</td>\n",
       "      <td>Problems when you are unable to pay</td>\n",
       "      <td>NaN</td>\n",
       "      <td>OH</td>\n",
       "      <td>43081</td>\n",
       "      <td>Web</td>\n",
       "      <td>5/8/2013</td>\n",
       "      <td>Closed with explanation</td>\n",
       "      <td>Yes</td>\n",
       "      <td>Yes</td>\n",
       "      <td>401541</td>\n",
       "    </tr>\n",
       "    <tr>\n",
       "      <th>4</th>\n",
       "      <td>684eeb4c-c9c3-4a97-8213-f3962a6c0aba</td>\n",
       "      <td>6/15/2016</td>\n",
       "      <td>Managing the line of credit</td>\n",
       "      <td>NaN</td>\n",
       "      <td>NC</td>\n",
       "      <td>27216</td>\n",
       "      <td>Phone</td>\n",
       "      <td>9/8/2016</td>\n",
       "      <td>Closed with non-monetary relief</td>\n",
       "      <td>Yes</td>\n",
       "      <td>No</td>\n",
       "      <td>1970341</td>\n",
       "    </tr>\n",
       "    <tr>\n",
       "      <th>...</th>\n",
       "      <td>...</td>\n",
       "      <td>...</td>\n",
       "      <td>...</td>\n",
       "      <td>...</td>\n",
       "      <td>...</td>\n",
       "      <td>...</td>\n",
       "      <td>...</td>\n",
       "      <td>...</td>\n",
       "      <td>...</td>\n",
       "      <td>...</td>\n",
       "      <td>...</td>\n",
       "      <td>...</td>\n",
       "    </tr>\n",
       "    <tr>\n",
       "      <th>1819</th>\n",
       "      <td>1114df98-6de3-4603-90c7-8f4f83824708</td>\n",
       "      <td>6/19/2015</td>\n",
       "      <td>Account terms and changes</td>\n",
       "      <td>NaN</td>\n",
       "      <td>CA</td>\n",
       "      <td>93710</td>\n",
       "      <td>Postal mail</td>\n",
       "      <td>6/22/2015</td>\n",
       "      <td>Closed with monetary relief</td>\n",
       "      <td>Yes</td>\n",
       "      <td>No</td>\n",
       "      <td>1430385</td>\n",
       "    </tr>\n",
       "    <tr>\n",
       "      <th>1820</th>\n",
       "      <td>7984b06e-0870-475c-b41f-a0b3205cdd78</td>\n",
       "      <td>12/26/2015</td>\n",
       "      <td>Managing the line of credit</td>\n",
       "      <td>NaN</td>\n",
       "      <td>TN</td>\n",
       "      <td>370XX</td>\n",
       "      <td>Web</td>\n",
       "      <td>1/29/2016</td>\n",
       "      <td>Closed with non-monetary relief</td>\n",
       "      <td>Yes</td>\n",
       "      <td>No</td>\n",
       "      <td>1717192</td>\n",
       "    </tr>\n",
       "    <tr>\n",
       "      <th>1821</th>\n",
       "      <td>658bbea2-bae6-479d-a194-e17f0674b1d0</td>\n",
       "      <td>11/1/2016</td>\n",
       "      <td>Managing the line of credit</td>\n",
       "      <td>NaN</td>\n",
       "      <td>PR</td>\n",
       "      <td>778</td>\n",
       "      <td>Phone</td>\n",
       "      <td>11/2/2016</td>\n",
       "      <td>Closed with non-monetary relief</td>\n",
       "      <td>Yes</td>\n",
       "      <td>No</td>\n",
       "      <td>2188308</td>\n",
       "    </tr>\n",
       "    <tr>\n",
       "      <th>1822</th>\n",
       "      <td>6d3a5e67-eec9-4815-b4ac-c69ffb79d2d1</td>\n",
       "      <td>8/30/2013</td>\n",
       "      <td>Account terms and changes</td>\n",
       "      <td>NaN</td>\n",
       "      <td>LA</td>\n",
       "      <td>71211</td>\n",
       "      <td>Web</td>\n",
       "      <td>10/22/2013</td>\n",
       "      <td>Closed with explanation</td>\n",
       "      <td>Yes</td>\n",
       "      <td>No</td>\n",
       "      <td>509944</td>\n",
       "    </tr>\n",
       "    <tr>\n",
       "      <th>1823</th>\n",
       "      <td>4e5144a3-81c5-435c-992c-c78a9c2ea43e</td>\n",
       "      <td>4/17/2015</td>\n",
       "      <td>Problems when you are unable to pay</td>\n",
       "      <td>NaN</td>\n",
       "      <td>AL</td>\n",
       "      <td>35950</td>\n",
       "      <td>Phone</td>\n",
       "      <td>4/20/2015</td>\n",
       "      <td>Closed with explanation</td>\n",
       "      <td>Yes</td>\n",
       "      <td>Yes</td>\n",
       "      <td>1335436</td>\n",
       "    </tr>\n",
       "  </tbody>\n",
       "</table>\n",
       "<p>1824 rows × 12 columns</p>\n",
       "</div>"
      ],
      "text/plain": [
       "                                   user_id Date received  \\\n",
       "0     44fefdad-7045-4be5-890e-12e84ae6fdc9     1/27/2016   \n",
       "1     c49d5d60-909f-406b-b7ff-51143fcb650b     8/26/2014   \n",
       "2     9b2cd5d2-900e-4052-831f-6489f6d568af     8/22/2012   \n",
       "3     b7e5b324-268e-4502-81a1-1a025673c2a0      5/7/2013   \n",
       "4     684eeb4c-c9c3-4a97-8213-f3962a6c0aba     6/15/2016   \n",
       "...                                    ...           ...   \n",
       "1819  1114df98-6de3-4603-90c7-8f4f83824708     6/19/2015   \n",
       "1820  7984b06e-0870-475c-b41f-a0b3205cdd78    12/26/2015   \n",
       "1821  658bbea2-bae6-479d-a194-e17f0674b1d0     11/1/2016   \n",
       "1822  6d3a5e67-eec9-4815-b4ac-c69ffb79d2d1     8/30/2013   \n",
       "1823  4e5144a3-81c5-435c-992c-c78a9c2ea43e     4/17/2015   \n",
       "\n",
       "                                    Issue Consumer complaint narrative State  \\\n",
       "0               Account terms and changes                          NaN    AL   \n",
       "1               Account terms and changes                          NaN    NC   \n",
       "2               Account terms and changes                          NaN    TN   \n",
       "3     Problems when you are unable to pay                          NaN    OH   \n",
       "4             Managing the line of credit                          NaN    NC   \n",
       "...                                   ...                          ...   ...   \n",
       "1819            Account terms and changes                          NaN    CA   \n",
       "1820          Managing the line of credit                          NaN    TN   \n",
       "1821          Managing the line of credit                          NaN    PR   \n",
       "1822            Account terms and changes                          NaN    LA   \n",
       "1823  Problems when you are unable to pay                          NaN    AL   \n",
       "\n",
       "     ZIP code Submitted via Date sent to company  \\\n",
       "0       35180         Phone            1/27/2016   \n",
       "1       278XX         Phone            8/29/2014   \n",
       "2       37205      Referral            8/23/2012   \n",
       "3       43081           Web             5/8/2013   \n",
       "4       27216         Phone             9/8/2016   \n",
       "...       ...           ...                  ...   \n",
       "1819    93710   Postal mail            6/22/2015   \n",
       "1820    370XX           Web            1/29/2016   \n",
       "1821      778         Phone            11/2/2016   \n",
       "1822    71211           Web           10/22/2013   \n",
       "1823    35950         Phone            4/20/2015   \n",
       "\n",
       "         Company response to consumer Timely response? Consumer disputed?  \\\n",
       "0             Closed with explanation              Yes                 No   \n",
       "1     Closed with non-monetary relief              Yes                 No   \n",
       "2     Closed with non-monetary relief              Yes                 No   \n",
       "3             Closed with explanation              Yes                Yes   \n",
       "4     Closed with non-monetary relief              Yes                 No   \n",
       "...                               ...              ...                ...   \n",
       "1819      Closed with monetary relief              Yes                 No   \n",
       "1820  Closed with non-monetary relief              Yes                 No   \n",
       "1821  Closed with non-monetary relief              Yes                 No   \n",
       "1822          Closed with explanation              Yes                 No   \n",
       "1823          Closed with explanation              Yes                Yes   \n",
       "\n",
       "      Complaint ID  \n",
       "0          1760486  \n",
       "1          1001740  \n",
       "2           140039  \n",
       "3           401541  \n",
       "4          1970341  \n",
       "...            ...  \n",
       "1819       1430385  \n",
       "1820       1717192  \n",
       "1821       2188308  \n",
       "1822        509944  \n",
       "1823       1335436  \n",
       "\n",
       "[1824 rows x 12 columns]"
      ]
     },
     "metadata": {},
     "output_type": "display_data"
    }
   ],
   "source": [
    "from pandas import read_csv\n",
    "\n",
    "file_path = '/workspaces/actually-programming/home_loan_complaints-2 (1).csv'\n",
    "\n",
    "my_dataset = read_csv(file_path)\n",
    "\n",
    "display(my_dataset)"
   ]
  },
  {
   "cell_type": "code",
   "execution_count": 4,
   "id": "ed8f2e19",
   "metadata": {},
   "outputs": [
    {
     "data": {
      "text/plain": [
       "0       NaN\n",
       "1       NaN\n",
       "2       NaN\n",
       "3       NaN\n",
       "4       NaN\n",
       "       ... \n",
       "1819    NaN\n",
       "1820    NaN\n",
       "1821    NaN\n",
       "1822    NaN\n",
       "1823    NaN\n",
       "Name: Consumer complaint narrative, Length: 1824, dtype: object"
      ]
     },
     "execution_count": 4,
     "metadata": {},
     "output_type": "execute_result"
    }
   ],
   "source": [
    "my_dataset[\"Consumer complaint narrative\"]"
   ]
  },
  {
   "cell_type": "code",
   "execution_count": 5,
   "id": "dc97f550",
   "metadata": {},
   "outputs": [
    {
     "name": "stdout",
     "output_type": "stream",
     "text": [
      "<class 'pandas.core.frame.DataFrame'>\n"
     ]
    }
   ],
   "source": [
    "print(type(my_dataset))"
   ]
  },
  {
   "cell_type": "code",
   "execution_count": 6,
   "id": "108f6b45",
   "metadata": {},
   "outputs": [
    {
     "data": {
      "text/html": [
       "<div>\n",
       "<style scoped>\n",
       "    .dataframe tbody tr th:only-of-type {\n",
       "        vertical-align: middle;\n",
       "    }\n",
       "\n",
       "    .dataframe tbody tr th {\n",
       "        vertical-align: top;\n",
       "    }\n",
       "\n",
       "    .dataframe thead th {\n",
       "        text-align: right;\n",
       "    }\n",
       "</style>\n",
       "<table border=\"1\" class=\"dataframe\">\n",
       "  <thead>\n",
       "    <tr style=\"text-align: right;\">\n",
       "      <th></th>\n",
       "      <th>user_id</th>\n",
       "      <th>Date received</th>\n",
       "      <th>Issue</th>\n",
       "      <th>Consumer complaint narrative</th>\n",
       "      <th>State</th>\n",
       "      <th>ZIP code</th>\n",
       "      <th>Submitted via</th>\n",
       "      <th>Date sent to company</th>\n",
       "      <th>Company response to consumer</th>\n",
       "      <th>Timely response?</th>\n",
       "      <th>Consumer disputed?</th>\n",
       "      <th>Complaint ID</th>\n",
       "    </tr>\n",
       "  </thead>\n",
       "  <tbody>\n",
       "    <tr>\n",
       "      <th>0</th>\n",
       "      <td>44fefdad-7045-4be5-890e-12e84ae6fdc9</td>\n",
       "      <td>1/27/2016</td>\n",
       "      <td>Account terms and changes</td>\n",
       "      <td>NaN</td>\n",
       "      <td>AL</td>\n",
       "      <td>35180</td>\n",
       "      <td>Phone</td>\n",
       "      <td>1/27/2016</td>\n",
       "      <td>Closed with explanation</td>\n",
       "      <td>Yes</td>\n",
       "      <td>No</td>\n",
       "      <td>1760486</td>\n",
       "    </tr>\n",
       "    <tr>\n",
       "      <th>53</th>\n",
       "      <td>1a1448a4-bfe5-455f-bc29-dc79ec5fb2c0</td>\n",
       "      <td>5/13/2016</td>\n",
       "      <td>Account terms and changes</td>\n",
       "      <td>NONE OF YOUR \" MY LOAN IS A '' below apply to ...</td>\n",
       "      <td>AL</td>\n",
       "      <td>NaN</td>\n",
       "      <td>Web</td>\n",
       "      <td>5/13/2016</td>\n",
       "      <td>Closed with monetary relief</td>\n",
       "      <td>Yes</td>\n",
       "      <td>Yes</td>\n",
       "      <td>1924047</td>\n",
       "    </tr>\n",
       "    <tr>\n",
       "      <th>109</th>\n",
       "      <td>d1012562-1726-4b2a-a359-f11a4ea56f9b</td>\n",
       "      <td>1/12/2013</td>\n",
       "      <td>Shopping for a line of credit</td>\n",
       "      <td>NaN</td>\n",
       "      <td>AL</td>\n",
       "      <td>350XX</td>\n",
       "      <td>Postal mail</td>\n",
       "      <td>1/15/2013</td>\n",
       "      <td>Closed with explanation</td>\n",
       "      <td>Yes</td>\n",
       "      <td>No</td>\n",
       "      <td>229588</td>\n",
       "    </tr>\n",
       "    <tr>\n",
       "      <th>121</th>\n",
       "      <td>9a1b7e6a-55d8-4bc2-8d2a-35909f1dd2bf</td>\n",
       "      <td>1/16/2015</td>\n",
       "      <td>Shopping for a line of credit</td>\n",
       "      <td>NaN</td>\n",
       "      <td>AL</td>\n",
       "      <td>363XX</td>\n",
       "      <td>Postal mail</td>\n",
       "      <td>1/21/2015</td>\n",
       "      <td>Closed with explanation</td>\n",
       "      <td>Yes</td>\n",
       "      <td>No</td>\n",
       "      <td>1196444</td>\n",
       "    </tr>\n",
       "    <tr>\n",
       "      <th>292</th>\n",
       "      <td>e5519c0e-9dc8-4a9b-a990-c02d6a6cb6d2</td>\n",
       "      <td>9/29/2015</td>\n",
       "      <td>Problems when you are unable to pay</td>\n",
       "      <td>NaN</td>\n",
       "      <td>AL</td>\n",
       "      <td>359XX</td>\n",
       "      <td>Phone</td>\n",
       "      <td>9/30/2015</td>\n",
       "      <td>Closed with non-monetary relief</td>\n",
       "      <td>Yes</td>\n",
       "      <td>No</td>\n",
       "      <td>1584892</td>\n",
       "    </tr>\n",
       "    <tr>\n",
       "      <th>500</th>\n",
       "      <td>b4a482fe-384a-43d1-8500-022e1a24faee</td>\n",
       "      <td>5/15/2014</td>\n",
       "      <td>Problems when you are unable to pay</td>\n",
       "      <td>NaN</td>\n",
       "      <td>AL</td>\n",
       "      <td>35611</td>\n",
       "      <td>Web</td>\n",
       "      <td>5/19/2014</td>\n",
       "      <td>Closed with explanation</td>\n",
       "      <td>Yes</td>\n",
       "      <td>No</td>\n",
       "      <td>853504</td>\n",
       "    </tr>\n",
       "    <tr>\n",
       "      <th>501</th>\n",
       "      <td>11be23cf-0789-42ca-9c6f-d07f4ea21450</td>\n",
       "      <td>8/22/2014</td>\n",
       "      <td>Shopping for a line of credit</td>\n",
       "      <td>NaN</td>\n",
       "      <td>AL</td>\n",
       "      <td>36330</td>\n",
       "      <td>Phone</td>\n",
       "      <td>8/26/2014</td>\n",
       "      <td>Closed with explanation</td>\n",
       "      <td>Yes</td>\n",
       "      <td>No</td>\n",
       "      <td>996616</td>\n",
       "    </tr>\n",
       "    <tr>\n",
       "      <th>514</th>\n",
       "      <td>6f8e1ff0-f4b0-44a2-9bc1-5a722369c6c0</td>\n",
       "      <td>3/14/2012</td>\n",
       "      <td>Managing the line of credit</td>\n",
       "      <td>NaN</td>\n",
       "      <td>AL</td>\n",
       "      <td>35613</td>\n",
       "      <td>Web</td>\n",
       "      <td>3/15/2012</td>\n",
       "      <td>Closed without relief</td>\n",
       "      <td>Yes</td>\n",
       "      <td>Yes</td>\n",
       "      <td>35197</td>\n",
       "    </tr>\n",
       "    <tr>\n",
       "      <th>540</th>\n",
       "      <td>4b860b8d-6109-4872-b928-676f63af984e</td>\n",
       "      <td>8/10/2016</td>\n",
       "      <td>Shopping for a line of credit</td>\n",
       "      <td>NaN</td>\n",
       "      <td>AL</td>\n",
       "      <td>36526</td>\n",
       "      <td>Postal mail</td>\n",
       "      <td>8/15/2016</td>\n",
       "      <td>Closed with explanation</td>\n",
       "      <td>Yes</td>\n",
       "      <td>No</td>\n",
       "      <td>2058097</td>\n",
       "    </tr>\n",
       "    <tr>\n",
       "      <th>558</th>\n",
       "      <td>0dbb444b-fd89-4115-b3a8-d7743a6df3b9</td>\n",
       "      <td>7/11/2012</td>\n",
       "      <td>Shopping for a line of credit</td>\n",
       "      <td>NaN</td>\n",
       "      <td>AL</td>\n",
       "      <td>360XX</td>\n",
       "      <td>Fax</td>\n",
       "      <td>7/13/2012</td>\n",
       "      <td>Closed with explanation</td>\n",
       "      <td>Yes</td>\n",
       "      <td>Yes</td>\n",
       "      <td>115945</td>\n",
       "    </tr>\n",
       "    <tr>\n",
       "      <th>584</th>\n",
       "      <td>d5fb5e89-fbe1-4a09-8339-e1c4fdb88327</td>\n",
       "      <td>8/6/2012</td>\n",
       "      <td>Managing the line of credit</td>\n",
       "      <td>NaN</td>\n",
       "      <td>AL</td>\n",
       "      <td>352XX</td>\n",
       "      <td>Referral</td>\n",
       "      <td>8/16/2012</td>\n",
       "      <td>Closed with explanation</td>\n",
       "      <td>Yes</td>\n",
       "      <td>Yes</td>\n",
       "      <td>130582</td>\n",
       "    </tr>\n",
       "    <tr>\n",
       "      <th>639</th>\n",
       "      <td>5c454e5f-d510-4ab2-980c-86a8e7cc1a8b</td>\n",
       "      <td>8/14/2012</td>\n",
       "      <td>Problems when you are unable to pay</td>\n",
       "      <td>NaN</td>\n",
       "      <td>AL</td>\n",
       "      <td>36116</td>\n",
       "      <td>Phone</td>\n",
       "      <td>8/17/2012</td>\n",
       "      <td>Closed with explanation</td>\n",
       "      <td>Yes</td>\n",
       "      <td>No</td>\n",
       "      <td>135461</td>\n",
       "    </tr>\n",
       "    <tr>\n",
       "      <th>664</th>\n",
       "      <td>473b4a52-0778-489e-8c89-6b03e569a2a1</td>\n",
       "      <td>3/21/2016</td>\n",
       "      <td>Problems when you are unable to pay</td>\n",
       "      <td>NaN</td>\n",
       "      <td>AL</td>\n",
       "      <td>350XX</td>\n",
       "      <td>Phone</td>\n",
       "      <td>3/21/2016</td>\n",
       "      <td>Closed with explanation</td>\n",
       "      <td>Yes</td>\n",
       "      <td>No</td>\n",
       "      <td>1842862</td>\n",
       "    </tr>\n",
       "    <tr>\n",
       "      <th>727</th>\n",
       "      <td>918e06d3-d193-42fa-9b46-76dffd52a59c</td>\n",
       "      <td>4/17/2014</td>\n",
       "      <td>Problems when you are unable to pay</td>\n",
       "      <td>NaN</td>\n",
       "      <td>AL</td>\n",
       "      <td>351XX</td>\n",
       "      <td>Web</td>\n",
       "      <td>4/22/2014</td>\n",
       "      <td>Closed with explanation</td>\n",
       "      <td>Yes</td>\n",
       "      <td>No</td>\n",
       "      <td>812780</td>\n",
       "    </tr>\n",
       "    <tr>\n",
       "      <th>757</th>\n",
       "      <td>8dabc3e8-8159-4bf6-bbac-3b40bd951b08</td>\n",
       "      <td>7/26/2012</td>\n",
       "      <td>Managing the line of credit</td>\n",
       "      <td>NaN</td>\n",
       "      <td>AL</td>\n",
       "      <td>357XX</td>\n",
       "      <td>Web</td>\n",
       "      <td>7/30/2012</td>\n",
       "      <td>Closed with monetary relief</td>\n",
       "      <td>Yes</td>\n",
       "      <td>No</td>\n",
       "      <td>125310</td>\n",
       "    </tr>\n",
       "    <tr>\n",
       "      <th>905</th>\n",
       "      <td>36ca2df5-3326-4368-90cd-60445d15254a</td>\n",
       "      <td>7/30/2015</td>\n",
       "      <td>Problems when you are unable to pay</td>\n",
       "      <td>NaN</td>\n",
       "      <td>AL</td>\n",
       "      <td>35215</td>\n",
       "      <td>Phone</td>\n",
       "      <td>8/6/2015</td>\n",
       "      <td>Closed with explanation</td>\n",
       "      <td>Yes</td>\n",
       "      <td>No</td>\n",
       "      <td>1494282</td>\n",
       "    </tr>\n",
       "    <tr>\n",
       "      <th>935</th>\n",
       "      <td>a4c4a384-d82a-4443-b744-4754360befc1</td>\n",
       "      <td>12/11/2013</td>\n",
       "      <td>Account terms and changes</td>\n",
       "      <td>NaN</td>\n",
       "      <td>AL</td>\n",
       "      <td>357XX</td>\n",
       "      <td>Web</td>\n",
       "      <td>12/18/2013</td>\n",
       "      <td>Closed with explanation</td>\n",
       "      <td>Yes</td>\n",
       "      <td>No</td>\n",
       "      <td>629351</td>\n",
       "    </tr>\n",
       "    <tr>\n",
       "      <th>940</th>\n",
       "      <td>f5fdd1f2-7378-4ace-9a8e-47e91a0f5cd2</td>\n",
       "      <td>2/13/2017</td>\n",
       "      <td>Shopping for a line of credit</td>\n",
       "      <td>NaN</td>\n",
       "      <td>AL</td>\n",
       "      <td>35214</td>\n",
       "      <td>Phone</td>\n",
       "      <td>2/13/2017</td>\n",
       "      <td>Closed with explanation</td>\n",
       "      <td>Yes</td>\n",
       "      <td>No</td>\n",
       "      <td>2341987</td>\n",
       "    </tr>\n",
       "    <tr>\n",
       "      <th>1085</th>\n",
       "      <td>2738648d-16c6-4e56-b0d8-28d03463775a</td>\n",
       "      <td>2/21/2014</td>\n",
       "      <td>Shopping for a line of credit</td>\n",
       "      <td>NaN</td>\n",
       "      <td>AL</td>\n",
       "      <td>352XX</td>\n",
       "      <td>Postal mail</td>\n",
       "      <td>2/24/2014</td>\n",
       "      <td>Closed with explanation</td>\n",
       "      <td>Yes</td>\n",
       "      <td>Yes</td>\n",
       "      <td>727512</td>\n",
       "    </tr>\n",
       "    <tr>\n",
       "      <th>1139</th>\n",
       "      <td>3891a745-5027-4136-ae08-40e3728a8ab4</td>\n",
       "      <td>12/1/2012</td>\n",
       "      <td>Problems when you are unable to pay</td>\n",
       "      <td>NaN</td>\n",
       "      <td>AL</td>\n",
       "      <td>350XX</td>\n",
       "      <td>Web</td>\n",
       "      <td>12/3/2012</td>\n",
       "      <td>Closed with explanation</td>\n",
       "      <td>Yes</td>\n",
       "      <td>No</td>\n",
       "      <td>201624</td>\n",
       "    </tr>\n",
       "    <tr>\n",
       "      <th>1167</th>\n",
       "      <td>fd9122e8-402e-4a82-8e5e-3af245226f0a</td>\n",
       "      <td>5/21/2012</td>\n",
       "      <td>Managing the line of credit</td>\n",
       "      <td>NaN</td>\n",
       "      <td>AL</td>\n",
       "      <td>356XX</td>\n",
       "      <td>Referral</td>\n",
       "      <td>5/24/2012</td>\n",
       "      <td>Closed with non-monetary relief</td>\n",
       "      <td>Yes</td>\n",
       "      <td>No</td>\n",
       "      <td>86722</td>\n",
       "    </tr>\n",
       "    <tr>\n",
       "      <th>1171</th>\n",
       "      <td>a97d16d1-0381-497d-ad98-b83f80991db1</td>\n",
       "      <td>3/5/2013</td>\n",
       "      <td>Account terms and changes</td>\n",
       "      <td>NaN</td>\n",
       "      <td>AL</td>\n",
       "      <td>362XX</td>\n",
       "      <td>Web</td>\n",
       "      <td>3/5/2013</td>\n",
       "      <td>Closed with explanation</td>\n",
       "      <td>Yes</td>\n",
       "      <td>Yes</td>\n",
       "      <td>340732</td>\n",
       "    </tr>\n",
       "    <tr>\n",
       "      <th>1294</th>\n",
       "      <td>b65059b9-eb4c-4bb2-b4ed-35856a6039ae</td>\n",
       "      <td>11/15/2016</td>\n",
       "      <td>Managing the line of credit</td>\n",
       "      <td>NaN</td>\n",
       "      <td>AL</td>\n",
       "      <td>36869</td>\n",
       "      <td>Referral</td>\n",
       "      <td>11/16/2016</td>\n",
       "      <td>Closed with explanation</td>\n",
       "      <td>Yes</td>\n",
       "      <td>No</td>\n",
       "      <td>2209600</td>\n",
       "    </tr>\n",
       "    <tr>\n",
       "      <th>1411</th>\n",
       "      <td>833e677c-76dc-4a75-82c0-58d26a4adff7</td>\n",
       "      <td>12/20/2013</td>\n",
       "      <td>Account terms and changes</td>\n",
       "      <td>NaN</td>\n",
       "      <td>AL</td>\n",
       "      <td>35238</td>\n",
       "      <td>Web</td>\n",
       "      <td>12/20/2013</td>\n",
       "      <td>Closed with explanation</td>\n",
       "      <td>Yes</td>\n",
       "      <td>No</td>\n",
       "      <td>641225</td>\n",
       "    </tr>\n",
       "    <tr>\n",
       "      <th>1577</th>\n",
       "      <td>be888ee5-dcc8-433a-b7aa-f195c680d69a</td>\n",
       "      <td>9/9/2015</td>\n",
       "      <td>Managing the line of credit</td>\n",
       "      <td>NaN</td>\n",
       "      <td>AL</td>\n",
       "      <td>350XX</td>\n",
       "      <td>Fax</td>\n",
       "      <td>9/18/2015</td>\n",
       "      <td>Closed with explanation</td>\n",
       "      <td>Yes</td>\n",
       "      <td>No</td>\n",
       "      <td>1556842</td>\n",
       "    </tr>\n",
       "    <tr>\n",
       "      <th>1615</th>\n",
       "      <td>d0da2759-544b-40ed-8b8e-3562ce15afa3</td>\n",
       "      <td>1/16/2013</td>\n",
       "      <td>Account terms and changes</td>\n",
       "      <td>NaN</td>\n",
       "      <td>AL</td>\n",
       "      <td>361XX</td>\n",
       "      <td>Postal mail</td>\n",
       "      <td>1/18/2013</td>\n",
       "      <td>Closed with explanation</td>\n",
       "      <td>Yes</td>\n",
       "      <td>No</td>\n",
       "      <td>237232</td>\n",
       "    </tr>\n",
       "    <tr>\n",
       "      <th>1625</th>\n",
       "      <td>7649527e-4382-4adc-a148-abe5e6da2ba7</td>\n",
       "      <td>6/26/2013</td>\n",
       "      <td>Shopping for a line of credit</td>\n",
       "      <td>NaN</td>\n",
       "      <td>AL</td>\n",
       "      <td>350XX</td>\n",
       "      <td>Postal mail</td>\n",
       "      <td>6/26/2013</td>\n",
       "      <td>Closed with explanation</td>\n",
       "      <td>Yes</td>\n",
       "      <td>No</td>\n",
       "      <td>443052</td>\n",
       "    </tr>\n",
       "    <tr>\n",
       "      <th>1714</th>\n",
       "      <td>c3111bb9-6aa0-42c5-a88c-2bfa6b1a3db2</td>\n",
       "      <td>7/26/2016</td>\n",
       "      <td>Shopping for a line of credit</td>\n",
       "      <td>NaN</td>\n",
       "      <td>AL</td>\n",
       "      <td>35022</td>\n",
       "      <td>Referral</td>\n",
       "      <td>7/28/2016</td>\n",
       "      <td>Closed with explanation</td>\n",
       "      <td>Yes</td>\n",
       "      <td>No</td>\n",
       "      <td>2030435</td>\n",
       "    </tr>\n",
       "    <tr>\n",
       "      <th>1716</th>\n",
       "      <td>2189fe06-9159-47a2-9a79-563453e2167d</td>\n",
       "      <td>3/14/2013</td>\n",
       "      <td>Account terms and changes</td>\n",
       "      <td>NaN</td>\n",
       "      <td>AL</td>\n",
       "      <td>366XX</td>\n",
       "      <td>Web</td>\n",
       "      <td>3/18/2013</td>\n",
       "      <td>Closed with non-monetary relief</td>\n",
       "      <td>Yes</td>\n",
       "      <td>No</td>\n",
       "      <td>355265</td>\n",
       "    </tr>\n",
       "    <tr>\n",
       "      <th>1803</th>\n",
       "      <td>f517989e-d843-4efa-b10f-2a49162120e1</td>\n",
       "      <td>1/11/2016</td>\n",
       "      <td>Managing the line of credit</td>\n",
       "      <td>NaN</td>\n",
       "      <td>AL</td>\n",
       "      <td>35758</td>\n",
       "      <td>Postal mail</td>\n",
       "      <td>1/11/2016</td>\n",
       "      <td>Closed with monetary relief</td>\n",
       "      <td>Yes</td>\n",
       "      <td>No</td>\n",
       "      <td>1735475</td>\n",
       "    </tr>\n",
       "    <tr>\n",
       "      <th>1823</th>\n",
       "      <td>4e5144a3-81c5-435c-992c-c78a9c2ea43e</td>\n",
       "      <td>4/17/2015</td>\n",
       "      <td>Problems when you are unable to pay</td>\n",
       "      <td>NaN</td>\n",
       "      <td>AL</td>\n",
       "      <td>35950</td>\n",
       "      <td>Phone</td>\n",
       "      <td>4/20/2015</td>\n",
       "      <td>Closed with explanation</td>\n",
       "      <td>Yes</td>\n",
       "      <td>Yes</td>\n",
       "      <td>1335436</td>\n",
       "    </tr>\n",
       "  </tbody>\n",
       "</table>\n",
       "</div>"
      ],
      "text/plain": [
       "                                   user_id Date received  \\\n",
       "0     44fefdad-7045-4be5-890e-12e84ae6fdc9     1/27/2016   \n",
       "53    1a1448a4-bfe5-455f-bc29-dc79ec5fb2c0     5/13/2016   \n",
       "109   d1012562-1726-4b2a-a359-f11a4ea56f9b     1/12/2013   \n",
       "121   9a1b7e6a-55d8-4bc2-8d2a-35909f1dd2bf     1/16/2015   \n",
       "292   e5519c0e-9dc8-4a9b-a990-c02d6a6cb6d2     9/29/2015   \n",
       "500   b4a482fe-384a-43d1-8500-022e1a24faee     5/15/2014   \n",
       "501   11be23cf-0789-42ca-9c6f-d07f4ea21450     8/22/2014   \n",
       "514   6f8e1ff0-f4b0-44a2-9bc1-5a722369c6c0     3/14/2012   \n",
       "540   4b860b8d-6109-4872-b928-676f63af984e     8/10/2016   \n",
       "558   0dbb444b-fd89-4115-b3a8-d7743a6df3b9     7/11/2012   \n",
       "584   d5fb5e89-fbe1-4a09-8339-e1c4fdb88327      8/6/2012   \n",
       "639   5c454e5f-d510-4ab2-980c-86a8e7cc1a8b     8/14/2012   \n",
       "664   473b4a52-0778-489e-8c89-6b03e569a2a1     3/21/2016   \n",
       "727   918e06d3-d193-42fa-9b46-76dffd52a59c     4/17/2014   \n",
       "757   8dabc3e8-8159-4bf6-bbac-3b40bd951b08     7/26/2012   \n",
       "905   36ca2df5-3326-4368-90cd-60445d15254a     7/30/2015   \n",
       "935   a4c4a384-d82a-4443-b744-4754360befc1    12/11/2013   \n",
       "940   f5fdd1f2-7378-4ace-9a8e-47e91a0f5cd2     2/13/2017   \n",
       "1085  2738648d-16c6-4e56-b0d8-28d03463775a     2/21/2014   \n",
       "1139  3891a745-5027-4136-ae08-40e3728a8ab4     12/1/2012   \n",
       "1167  fd9122e8-402e-4a82-8e5e-3af245226f0a     5/21/2012   \n",
       "1171  a97d16d1-0381-497d-ad98-b83f80991db1      3/5/2013   \n",
       "1294  b65059b9-eb4c-4bb2-b4ed-35856a6039ae    11/15/2016   \n",
       "1411  833e677c-76dc-4a75-82c0-58d26a4adff7    12/20/2013   \n",
       "1577  be888ee5-dcc8-433a-b7aa-f195c680d69a      9/9/2015   \n",
       "1615  d0da2759-544b-40ed-8b8e-3562ce15afa3     1/16/2013   \n",
       "1625  7649527e-4382-4adc-a148-abe5e6da2ba7     6/26/2013   \n",
       "1714  c3111bb9-6aa0-42c5-a88c-2bfa6b1a3db2     7/26/2016   \n",
       "1716  2189fe06-9159-47a2-9a79-563453e2167d     3/14/2013   \n",
       "1803  f517989e-d843-4efa-b10f-2a49162120e1     1/11/2016   \n",
       "1823  4e5144a3-81c5-435c-992c-c78a9c2ea43e     4/17/2015   \n",
       "\n",
       "                                    Issue  \\\n",
       "0               Account terms and changes   \n",
       "53              Account terms and changes   \n",
       "109         Shopping for a line of credit   \n",
       "121         Shopping for a line of credit   \n",
       "292   Problems when you are unable to pay   \n",
       "500   Problems when you are unable to pay   \n",
       "501         Shopping for a line of credit   \n",
       "514           Managing the line of credit   \n",
       "540         Shopping for a line of credit   \n",
       "558         Shopping for a line of credit   \n",
       "584           Managing the line of credit   \n",
       "639   Problems when you are unable to pay   \n",
       "664   Problems when you are unable to pay   \n",
       "727   Problems when you are unable to pay   \n",
       "757           Managing the line of credit   \n",
       "905   Problems when you are unable to pay   \n",
       "935             Account terms and changes   \n",
       "940         Shopping for a line of credit   \n",
       "1085        Shopping for a line of credit   \n",
       "1139  Problems when you are unable to pay   \n",
       "1167          Managing the line of credit   \n",
       "1171            Account terms and changes   \n",
       "1294          Managing the line of credit   \n",
       "1411            Account terms and changes   \n",
       "1577          Managing the line of credit   \n",
       "1615            Account terms and changes   \n",
       "1625        Shopping for a line of credit   \n",
       "1714        Shopping for a line of credit   \n",
       "1716            Account terms and changes   \n",
       "1803          Managing the line of credit   \n",
       "1823  Problems when you are unable to pay   \n",
       "\n",
       "                           Consumer complaint narrative State ZIP code  \\\n",
       "0                                                   NaN    AL    35180   \n",
       "53    NONE OF YOUR \" MY LOAN IS A '' below apply to ...    AL      NaN   \n",
       "109                                                 NaN    AL    350XX   \n",
       "121                                                 NaN    AL    363XX   \n",
       "292                                                 NaN    AL    359XX   \n",
       "500                                                 NaN    AL    35611   \n",
       "501                                                 NaN    AL    36330   \n",
       "514                                                 NaN    AL    35613   \n",
       "540                                                 NaN    AL    36526   \n",
       "558                                                 NaN    AL    360XX   \n",
       "584                                                 NaN    AL    352XX   \n",
       "639                                                 NaN    AL    36116   \n",
       "664                                                 NaN    AL    350XX   \n",
       "727                                                 NaN    AL    351XX   \n",
       "757                                                 NaN    AL    357XX   \n",
       "905                                                 NaN    AL    35215   \n",
       "935                                                 NaN    AL    357XX   \n",
       "940                                                 NaN    AL    35214   \n",
       "1085                                                NaN    AL    352XX   \n",
       "1139                                                NaN    AL    350XX   \n",
       "1167                                                NaN    AL    356XX   \n",
       "1171                                                NaN    AL    362XX   \n",
       "1294                                                NaN    AL    36869   \n",
       "1411                                                NaN    AL    35238   \n",
       "1577                                                NaN    AL    350XX   \n",
       "1615                                                NaN    AL    361XX   \n",
       "1625                                                NaN    AL    350XX   \n",
       "1714                                                NaN    AL    35022   \n",
       "1716                                                NaN    AL    366XX   \n",
       "1803                                                NaN    AL    35758   \n",
       "1823                                                NaN    AL    35950   \n",
       "\n",
       "     Submitted via Date sent to company     Company response to consumer  \\\n",
       "0            Phone            1/27/2016          Closed with explanation   \n",
       "53             Web            5/13/2016      Closed with monetary relief   \n",
       "109    Postal mail            1/15/2013          Closed with explanation   \n",
       "121    Postal mail            1/21/2015          Closed with explanation   \n",
       "292          Phone            9/30/2015  Closed with non-monetary relief   \n",
       "500            Web            5/19/2014          Closed with explanation   \n",
       "501          Phone            8/26/2014          Closed with explanation   \n",
       "514            Web            3/15/2012            Closed without relief   \n",
       "540    Postal mail            8/15/2016          Closed with explanation   \n",
       "558            Fax            7/13/2012          Closed with explanation   \n",
       "584       Referral            8/16/2012          Closed with explanation   \n",
       "639          Phone            8/17/2012          Closed with explanation   \n",
       "664          Phone            3/21/2016          Closed with explanation   \n",
       "727            Web            4/22/2014          Closed with explanation   \n",
       "757            Web            7/30/2012      Closed with monetary relief   \n",
       "905          Phone             8/6/2015          Closed with explanation   \n",
       "935            Web           12/18/2013          Closed with explanation   \n",
       "940          Phone            2/13/2017          Closed with explanation   \n",
       "1085   Postal mail            2/24/2014          Closed with explanation   \n",
       "1139           Web            12/3/2012          Closed with explanation   \n",
       "1167      Referral            5/24/2012  Closed with non-monetary relief   \n",
       "1171           Web             3/5/2013          Closed with explanation   \n",
       "1294      Referral           11/16/2016          Closed with explanation   \n",
       "1411           Web           12/20/2013          Closed with explanation   \n",
       "1577           Fax            9/18/2015          Closed with explanation   \n",
       "1615   Postal mail            1/18/2013          Closed with explanation   \n",
       "1625   Postal mail            6/26/2013          Closed with explanation   \n",
       "1714      Referral            7/28/2016          Closed with explanation   \n",
       "1716           Web            3/18/2013  Closed with non-monetary relief   \n",
       "1803   Postal mail            1/11/2016      Closed with monetary relief   \n",
       "1823         Phone            4/20/2015          Closed with explanation   \n",
       "\n",
       "     Timely response? Consumer disputed?  Complaint ID  \n",
       "0                 Yes                 No       1760486  \n",
       "53                Yes                Yes       1924047  \n",
       "109               Yes                 No        229588  \n",
       "121               Yes                 No       1196444  \n",
       "292               Yes                 No       1584892  \n",
       "500               Yes                 No        853504  \n",
       "501               Yes                 No        996616  \n",
       "514               Yes                Yes         35197  \n",
       "540               Yes                 No       2058097  \n",
       "558               Yes                Yes        115945  \n",
       "584               Yes                Yes        130582  \n",
       "639               Yes                 No        135461  \n",
       "664               Yes                 No       1842862  \n",
       "727               Yes                 No        812780  \n",
       "757               Yes                 No        125310  \n",
       "905               Yes                 No       1494282  \n",
       "935               Yes                 No        629351  \n",
       "940               Yes                 No       2341987  \n",
       "1085              Yes                Yes        727512  \n",
       "1139              Yes                 No        201624  \n",
       "1167              Yes                 No         86722  \n",
       "1171              Yes                Yes        340732  \n",
       "1294              Yes                 No       2209600  \n",
       "1411              Yes                 No        641225  \n",
       "1577              Yes                 No       1556842  \n",
       "1615              Yes                 No        237232  \n",
       "1625              Yes                 No        443052  \n",
       "1714              Yes                 No       2030435  \n",
       "1716              Yes                 No        355265  \n",
       "1803              Yes                 No       1735475  \n",
       "1823              Yes                Yes       1335436  "
      ]
     },
     "execution_count": 6,
     "metadata": {},
     "output_type": "execute_result"
    }
   ],
   "source": [
    "my_dataset[my_dataset.State == 'AL']"
   ]
  },
  {
   "cell_type": "markdown",
   "id": "12c1bcb0",
   "metadata": {},
   "source": [
    "We are using the JSON library because we can use it as an object in our code. We can also use them to save our objects permanently. "
   ]
  },
  {
   "cell_type": "code",
   "execution_count": 1,
   "id": "ffc290c7",
   "metadata": {},
   "outputs": [
    {
     "name": "stdout",
     "output_type": "stream",
     "text": [
      "[{'_id': '64a1f90f9b1d8c1c0d1e3a01', 'name': 'Alice Johnson', 'email': 'alice@example.com', 'age': 34, 'is_active': True, 'roles': ['admin', 'editor'], 'created_at': '2023-06-01T12:34:56Z'}, {'_id': '64a1f90f9b1d8c1c0d1e3a02', 'name': 'Bob Smith', 'email': 'bob@example.com', 'age': 29, 'is_active': False, 'roles': ['viewer'], 'created_at': '2023-07-15T08:22:30Z'}, {'_id': '64a1f90f9b1d8c1c0d1e3a03', 'name': 'Carol Davis', 'email': 'carol@example.com', 'age': 41, 'is_active': True, 'roles': ['editor'], 'created_at': '2023-05-10T16:00:00Z'}, {'_id': '64a1f90f9b1d8c1c0d1e3a04', 'name': 'David Lee', 'email': 'david@example.com', 'age': 22, 'is_active': True, 'roles': ['viewer', 'commenter'], 'created_at': '2023-08-20T10:15:10Z'}, {'_id': '64a1f90f9b1d8c1c0d1e3a05', 'name': 'Ella Martin', 'email': 'ella@example.com', 'age': 37, 'is_active': False, 'roles': ['admin'], 'created_at': '2023-03-12T14:45:00Z'}]\n"
     ]
    }
   ],
   "source": [
    "import json\n",
    "\n",
    "j_file_path = '/workspaces/actually-programming/ex_file.json'\n",
    "\n",
    "with open(j_file_path, 'r') as file:\n",
    "    data = json.load(file)\n",
    "\n",
    "print(data)\n"
   ]
  },
  {
   "cell_type": "markdown",
   "id": "8fdd5ea6",
   "metadata": {},
   "source": [
    "----------------------------------------------------------------------------------"
   ]
  },
  {
   "cell_type": "markdown",
   "id": "ca89882e",
   "metadata": {},
   "source": [
    "Writing to Files"
   ]
  },
  {
   "cell_type": "code",
   "execution_count": 5,
   "id": "659f6fdd",
   "metadata": {},
   "outputs": [],
   "source": [
    "my_list_of_dicts = [\n",
    "    {'Name': 'Alice', 'Age': 30, 'City': 'New York'},\n",
    "    {'Name': 'Bob', 'Age': 25, 'City': 'Los Angeles'},\n",
    "    {'Name': 'Charlie', 'Age': 35, 'City': 'Chicago'}\n",
    "]"
   ]
  },
  {
   "cell_type": "code",
   "execution_count": 6,
   "id": "bce29903",
   "metadata": {},
   "outputs": [],
   "source": [
    "file_pointer = open('my_data.json', mode = 'w')\n"
   ]
  },
  {
   "cell_type": "code",
   "execution_count": 7,
   "id": "08beaff3",
   "metadata": {},
   "outputs": [],
   "source": [
    "import json\n",
    "\n",
    "json.dump(my_list_of_dicts, file_pointer)\n",
    "file_pointer.close()"
   ]
  },
  {
   "cell_type": "code",
   "execution_count": 4,
   "id": "533ca80f",
   "metadata": {},
   "outputs": [
    {
     "name": "stdout",
     "output_type": "stream",
     "text": [
      "[{'Name': 'Alice', 'Age': 30, 'City': 'New York'}, {'Name': 'Bob', 'Age': 25, 'City': 'Los Angeles'}, {'Name': 'Charlie', 'Age': 35, 'City': 'Chicago'}]\n"
     ]
    }
   ],
   "source": [
    "with open('my_data.json', 'r') as file_pointer:\n",
    "    data = json.load(file_pointer)\n",
    "    print(data)"
   ]
  },
  {
   "cell_type": "markdown",
   "id": "b03c7c4c",
   "metadata": {},
   "source": [
    "----------------------------------------------------------------------------------"
   ]
  },
  {
   "cell_type": "markdown",
   "id": "fe27ad4a",
   "metadata": {},
   "source": [
    "Custom Classes Assignment"
   ]
  },
  {
   "cell_type": "code",
   "execution_count": null,
   "id": "95a3fd27",
   "metadata": {},
   "outputs": [],
   "source": [
    "class Dog:\n",
    "    pass\n",
    "\n",
    "class Cat:\n",
    "    pass\n",
    "\n",
    "class Bird:\n",
    "    pass"
   ]
  },
  {
   "cell_type": "markdown",
   "id": "14b22c54",
   "metadata": {},
   "source": [
    "----------------------------------------------------------------------------------"
   ]
  },
  {
   "cell_type": "markdown",
   "id": "f40167c5",
   "metadata": {},
   "source": [
    "Introduction to Custom Methods Assignment"
   ]
  },
  {
   "cell_type": "code",
   "execution_count": null,
   "id": "5773a594",
   "metadata": {},
   "outputs": [
    {
     "name": "stdout",
     "output_type": "stream",
     "text": [
      "Woof!\n",
      "Meow!\n",
      "Chirp!\n"
     ]
    }
   ],
   "source": [
    "class Dog:\n",
    "    def bark(self):\n",
    "        print(\"Woof!\")\n",
    "\n",
    "class Cat:\n",
    "    def meow(self):\n",
    "        print(\"Meow!\")\n",
    "\n",
    "class Bird:\n",
    "    def chirp(self):\n",
    "        print(\"Chirp!\")\n",
    "\n",
    "the_dog = Dog()\n",
    "the_cat = Cat()\n",
    "the_bird = Bird()\n",
    "\n",
    "the_dog.bark()\n",
    "the_cat.meow()\n",
    "the_bird.chirp()"
   ]
  },
  {
   "cell_type": "markdown",
   "id": "8da90b58",
   "metadata": {},
   "source": [
    "----------------------------------------------------------------------------------"
   ]
  },
  {
   "cell_type": "markdown",
   "id": "8b8befb6",
   "metadata": {},
   "source": [
    "Enforcing Inheritance Assignment"
   ]
  },
  {
   "cell_type": "code",
   "execution_count": null,
   "id": "0964afba",
   "metadata": {},
   "outputs": [
    {
     "name": "stdout",
     "output_type": "stream",
     "text": [
      "The living thing has grown! The size is now 0.2\n",
      "The flower has grown more beautiful!, the beauty is now 1\n",
      "The living thing has grown! The size is now 0.4\n",
      "The flower has grown more beautiful!, the beauty is now 2\n",
      "The living thing has grown! The size is now 0.8\n",
      "The flower has grown more beautiful!, the beauty is now 3\n"
     ]
    }
   ],
   "source": [
    "class LivingThing:\n",
    "    def start(self):\n",
    "        self.running = True\n",
    "        self.size = 0.1\n",
    "    def grow(self):\n",
    "        self.size = self.size*2\n",
    "        print(\"The living thing has grown! The size is now\", self.size)\n",
    "\n",
    "class Plant(LivingThing):\n",
    "    pass\n",
    "    \n",
    "\n",
    "class Flower(Plant):\n",
    "    def __init__(self):\n",
    "        self.beauty = 0\n",
    "    def grow(self):\n",
    "        super().grow()\n",
    "        self.beauty = self.beauty + 1\n",
    "        print(\"The flower has grown more beautiful!, the beauty is now\", self.beauty)\n",
    "    \n",
    "\n",
    "rose = Flower()\n",
    "rose.start()\n",
    "rose.grow()\n",
    "rose.grow()\n",
    "rose.grow()\n"
   ]
  },
  {
   "cell_type": "code",
   "execution_count": 24,
   "id": "736dc88d",
   "metadata": {},
   "outputs": [
    {
     "name": "stdout",
     "output_type": "stream",
     "text": [
      "Testing the Beagle class:\n",
      "     \n",
      "The pet is now outside.\n",
      "The pet is now inside.\n",
      "Howl!\n",
      "---------------------------------\n",
      "\n",
      "Testing the Dog class:\n",
      "     \n",
      "The pet is now outside.\n",
      "The pet is now inside.\n",
      "Bark!\n"
     ]
    }
   ],
   "source": [
    "class Pet:\n",
    "    def start(self):\n",
    "        self.running = True\n",
    "    def __init__(self):\n",
    "        self.inside = True\n",
    "        self.outside = False\n",
    "    def go_inside(self):\n",
    "        self.inside = True\n",
    "        self.outside = False\n",
    "        print(\"The pet is now inside.\")\n",
    "    def go_outside(self):\n",
    "        self.inside = False\n",
    "        self.outside = True\n",
    "        print(\"The pet is now outside.\")\n",
    "\n",
    "class Dog(Pet):\n",
    "    def talk(self):\n",
    "        print(\"Bark!\") \n",
    "\n",
    "class Beagle(Dog):\n",
    "    def talk(self):\n",
    "        print(\"Howl!\")\n",
    "\n",
    "print(\"Testing the Beagle class:\")\n",
    "print(\"     \")\n",
    "the_dog = Beagle()\n",
    "the_dog.start()\n",
    "the_dog.go_outside()\n",
    "the_dog.go_inside()\n",
    "the_dog.talk()\n",
    "\n",
    "print(\"---------------------------------\")\n",
    "\n",
    "print(\"\\nTesting the Dog class:\")\n",
    "print(\"     \")\n",
    "mutt = Dog()\n",
    "mutt.start()\n",
    "mutt.go_outside()\n",
    "mutt.go_inside()\n",
    "mutt.talk()"
   ]
  },
  {
   "cell_type": "markdown",
   "id": "84e2aebe",
   "metadata": {},
   "source": [
    "----------------------------------------------------------------------------------"
   ]
  },
  {
   "cell_type": "markdown",
   "id": "caec8425",
   "metadata": {},
   "source": [
    "Applying Composition"
   ]
  },
  {
   "cell_type": "code",
   "execution_count": 25,
   "id": "40881ad4",
   "metadata": {},
   "outputs": [],
   "source": [
    "class Collar:\n",
    "    def __init__(self):\n",
    "        self.name_string = \"\"\n",
    "        self.color = \"\"\n",
    "        self.size = \"\"\n",
    "        self.is_tracked = True\n",
    "\n",
    "class BestFriendPet:\n",
    "    def __init__(self):\n",
    "        self.collar = Collar() \n",
    "\n",
    "class Person:\n",
    "    def __init__(self):\n",
    "        self.pet = BestFriendPet()\n",
    "    "
   ]
  },
  {
   "cell_type": "markdown",
   "id": "ecff5d4c",
   "metadata": {},
   "source": [
    "----------------------------------------------------------------------------------"
   ]
  },
  {
   "cell_type": "markdown",
   "id": "c9b4523a",
   "metadata": {},
   "source": [
    "Applying Custom Libraries"
   ]
  },
  {
   "cell_type": "code",
   "execution_count": 1,
   "id": "58854a6a",
   "metadata": {},
   "outputs": [
    {
     "name": "stdout",
     "output_type": "stream",
     "text": [
      "Function One from function_one.py\n",
      "Function Two from function_two.py\n",
      "Method One from ClassOne\n",
      "Method Two from ClassTwo\n"
     ]
    }
   ],
   "source": [
    "from custom_lib.functions.function_one import function_one\n",
    "from custom_lib.functions.function_two import function_two\n",
    "from custom_lib.classes.ClassOne import ClassOne\n",
    "from custom_lib.classes.ClassTwo import ClassTwo\n",
    "\n",
    "function_one()\n",
    "function_two()\n",
    "ClassOne().method_one()\n",
    "ClassTwo().method_two()"
   ]
  },
  {
   "cell_type": "markdown",
   "id": "706225bf",
   "metadata": {},
   "source": [
    "----------------------------------------------------------------------------------"
   ]
  },
  {
   "cell_type": "markdown",
   "id": "e6677b23",
   "metadata": {},
   "source": [
    "Applying Exception Handling"
   ]
  },
  {
   "cell_type": "code",
   "execution_count": 4,
   "id": "93336c60",
   "metadata": {},
   "outputs": [
    {
     "name": "stdout",
     "output_type": "stream",
     "text": [
      "Invalid input. Please enter numeric values only.\n"
     ]
    }
   ],
   "source": [
    "input_value_num_one = input(\"Please enter a number: \")\n",
    "input_value_num_two = input(\"Please enter another number: \")\n",
    "try:\n",
    "    final_value = float(input_value_num_one) + float(input_value_num_two)\n",
    "except ValueError:\n",
    "    print(\"Invalid input. Please enter numeric values only.\")\n",
    "else:\n",
    "    print(\"The final value is\", final_value)\n"
   ]
  },
  {
   "cell_type": "markdown",
   "id": "e41e61e8",
   "metadata": {},
   "source": [
    "----------------------------------------------------------------------------------"
   ]
  },
  {
   "cell_type": "markdown",
   "id": "e317e774",
   "metadata": {},
   "source": [
    "Applying Exception Handling"
   ]
  },
  {
   "cell_type": "code",
   "execution_count": null,
   "id": "33528bb3",
   "metadata": {},
   "outputs": [],
   "source": [
    "# Placeholder for assignment"
   ]
  },
  {
   "cell_type": "markdown",
   "id": "21de6f50",
   "metadata": {},
   "source": [
    "----------------------------------------------------------------------------------"
   ]
  },
  {
   "cell_type": "markdown",
   "id": "79e77e96",
   "metadata": {},
   "source": [
    "Creating a Running Web App"
   ]
  },
  {
   "cell_type": "code",
   "execution_count": null,
   "id": "a04617d3",
   "metadata": {},
   "outputs": [
    {
     "name": "stdout",
     "output_type": "stream",
     "text": [
      "Collecting flask\n",
      "  Downloading flask-3.1.2-py3-none-any.whl.metadata (3.2 kB)\n",
      "Collecting blinker>=1.9.0 (from flask)\n",
      "  Downloading blinker-1.9.0-py3-none-any.whl.metadata (1.6 kB)\n",
      "Collecting click>=8.1.3 (from flask)\n",
      "  Downloading click-8.2.1-py3-none-any.whl.metadata (2.5 kB)\n",
      "Collecting itsdangerous>=2.2.0 (from flask)\n",
      "  Downloading itsdangerous-2.2.0-py3-none-any.whl.metadata (1.9 kB)\n",
      "Requirement already satisfied: jinja2>=3.1.2 in /home/codespace/.local/lib/python3.12/site-packages (from flask) (3.1.6)\n",
      "Requirement already satisfied: markupsafe>=2.1.1 in /home/codespace/.local/lib/python3.12/site-packages (from flask) (3.0.2)\n",
      "Collecting werkzeug>=3.1.0 (from flask)\n",
      "  Downloading werkzeug-3.1.3-py3-none-any.whl.metadata (3.7 kB)\n",
      "Downloading flask-3.1.2-py3-none-any.whl (103 kB)\n",
      "Downloading blinker-1.9.0-py3-none-any.whl (8.5 kB)\n",
      "Downloading click-8.2.1-py3-none-any.whl (102 kB)\n",
      "Downloading itsdangerous-2.2.0-py3-none-any.whl (16 kB)\n",
      "Downloading werkzeug-3.1.3-py3-none-any.whl (224 kB)\n",
      "Installing collected packages: werkzeug, itsdangerous, click, blinker, flask\n",
      "\u001b[2K   \u001b[90m━━━━━━━━━━━━━━━━━━━━━━━━━━━━━━━━━━━━━━━━\u001b[0m \u001b[32m5/5\u001b[0m [flask]32m2/5\u001b[0m [click]\n",
      "\u001b[1A\u001b[2KSuccessfully installed blinker-1.9.0 click-8.2.1 flask-3.1.2 itsdangerous-2.2.0 werkzeug-3.1.3\n",
      "\n",
      "\u001b[1m[\u001b[0m\u001b[34;49mnotice\u001b[0m\u001b[1;39;49m]\u001b[0m\u001b[39;49m A new release of pip is available: \u001b[0m\u001b[31;49m25.1.1\u001b[0m\u001b[39;49m -> \u001b[0m\u001b[32;49m25.2\u001b[0m\n",
      "\u001b[1m[\u001b[0m\u001b[34;49mnotice\u001b[0m\u001b[1;39;49m]\u001b[0m\u001b[39;49m To update, run: \u001b[0m\u001b[32;49mpython3 -m pip install --upgrade pip\u001b[0m\n"
     ]
    }
   ],
   "source": [
    "!pip install flask"
   ]
  },
  {
   "cell_type": "code",
   "execution_count": 4,
   "id": "38543db9",
   "metadata": {},
   "outputs": [
    {
     "name": "stdout",
     "output_type": "stream",
     "text": [
      " * Serving Flask app '__main__'\n",
      " * Debug mode: off\n"
     ]
    },
    {
     "name": "stderr",
     "output_type": "stream",
     "text": [
      "WARNING: This is a development server. Do not use it in a production deployment. Use a production WSGI server instead.\n",
      " * Running on http://127.0.0.1:5000\n",
      "Press CTRL+C to quit\n"
     ]
    }
   ],
   "source": [
    "from flask import Flask\n",
    "\n",
    "web_app = Flask(import_name = __name__)\n",
    "\n",
    "web_app.run()"
   ]
  },
  {
   "cell_type": "markdown",
   "id": "334f5041",
   "metadata": {},
   "source": [
    "----------------------------------------------------------------------------------"
   ]
  },
  {
   "cell_type": "markdown",
   "id": "975e87fe",
   "metadata": {},
   "source": [
    "Creating Web Routes"
   ]
  },
  {
   "cell_type": "code",
   "execution_count": null,
   "id": "8011efec",
   "metadata": {},
   "outputs": [
    {
     "name": "stdout",
     "output_type": "stream",
     "text": [
      " * Serving Flask app '__main__'\n",
      " * Debug mode: off\n"
     ]
    },
    {
     "name": "stderr",
     "output_type": "stream",
     "text": [
      "WARNING: This is a development server. Do not use it in a production deployment. Use a production WSGI server instead.\n",
      " * Running on http://127.0.0.1:5000\n",
      "Press CTRL+C to quit\n",
      "127.0.0.1 - - [09/Sep/2025 00:38:19] \"GET / HTTP/1.1\" 200 -\n",
      "127.0.0.1 - - [09/Sep/2025 00:38:19] \"GET /favicon.ico HTTP/1.1\" 404 -\n",
      "127.0.0.1 - - [09/Sep/2025 00:38:25] \"GET /info HTTP/1.1\" 200 -\n",
      "127.0.0.1 - - [09/Sep/2025 00:38:31] \"GET /other HTTP/1.1\" 200 -\n"
     ]
    }
   ],
   "source": [
    "from flask import Flask\n",
    "\n",
    "web_app = Flask(import_name = __name__)\n",
    "\n",
    "@web_app.route('/') # route to home page\n",
    "def home_page():\n",
    "    return \"This is the home page!\"\n",
    "\n",
    "@web_app.route('/info') # route to info page\n",
    "def info_page():\n",
    "    return \"This is the info page!\"\n",
    "\n",
    "@web_app.route('/other') # route to other page\n",
    "def other_page():\n",
    "    return \"This is the other page!\"\n",
    "\n",
    "web_app.run()"
   ]
  },
  {
   "cell_type": "markdown",
   "id": "09460ded",
   "metadata": {},
   "source": [
    "----------------------------------------------------------------------------------"
   ]
  },
  {
   "cell_type": "markdown",
   "id": "9afb060f",
   "metadata": {},
   "source": [
    "Deploying A Basic HTML Template"
   ]
  },
  {
   "cell_type": "markdown",
   "id": "b637891c",
   "metadata": {},
   "source": [
    "Answer the following:\n",
    "\n",
    "What exactly is the flask templates folder? Use an example or analogy\n",
    "A folder that flask automatically looks to in order to find our HTML page.\n",
    "\n",
    "What exactly goes into the flask templates folder? Use an example or analogy\n",
    "Our HTML page\n",
    "\n",
    "In general, where exactly does our templates folder need to go? Use an example or analogy\n",
    "The same location as our main server file\n",
    "\n",
    "How is our templates folder similar to a custom library? Use an example or analogy\n",
    "Because it's a folder needs to go in the same location as the main server file and contains files.\n"
   ]
  },
  {
   "cell_type": "code",
   "execution_count": 2,
   "id": "476892fd",
   "metadata": {},
   "outputs": [
    {
     "name": "stdout",
     "output_type": "stream",
     "text": [
      " * Serving Flask app '__main__'\n",
      " * Debug mode: off\n"
     ]
    },
    {
     "name": "stderr",
     "output_type": "stream",
     "text": [
      "WARNING: This is a development server. Do not use it in a production deployment. Use a production WSGI server instead.\n",
      " * Running on http://127.0.0.1:5000\n",
      "Press CTRL+C to quit\n",
      "127.0.0.1 - - [09/Sep/2025 01:56:13] \"GET / HTTP/1.1\" 200 -\n"
     ]
    }
   ],
   "source": [
    "from flask import Flask, render_template\n",
    "\n",
    "web_app = Flask(import_name = __name__)\n",
    "\n",
    "@web_app.route('/') # route to home page\n",
    "def home_page():\n",
    "    return render_template('index.html')\n",
    "\n",
    "web_app.run()"
   ]
  },
  {
   "cell_type": "markdown",
   "id": "f76d9baf",
   "metadata": {},
   "source": [
    "----------------------------------------------------------------------------------"
   ]
  },
  {
   "cell_type": "markdown",
   "id": "2c2dfdd9",
   "metadata": {},
   "source": [
    "Making Ports Visable"
   ]
  },
  {
   "cell_type": "markdown",
   "id": "ea1d85e9",
   "metadata": {},
   "source": [
    "What exactly is port visibility? Use an example or analogy\n",
    "\n",
    "\n",
    "How is port visibility different from port forwarding? Use an example or analogy\n",
    "\n",
    "\n",
    "Why aren't VS forwarded ports automatically publicly visible? Use an example or analogy\n",
    "\n",
    "\n",
    "When do we need to make our port visibility public? Use an example or analogy"
   ]
  },
  {
   "cell_type": "code",
   "execution_count": 6,
   "id": "62eb6c8b",
   "metadata": {},
   "outputs": [
    {
     "name": "stdout",
     "output_type": "stream",
     "text": [
      " * Serving Flask app '__main__'\n",
      " * Debug mode: off\n"
     ]
    },
    {
     "name": "stderr",
     "output_type": "stream",
     "text": [
      "WARNING: This is a development server. Do not use it in a production deployment. Use a production WSGI server instead.\n",
      " * Running on http://127.0.0.1:5000\n",
      "Press CTRL+C to quit\n"
     ]
    }
   ],
   "source": [
    "from flask import Flask, render_template\n",
    "\n",
    "the_app = Flask(import_name = __name__)\n",
    "\n",
    "the_decorator_function = the_app.route('/')\n",
    "\n",
    "def home_page():\n",
    "    return render_template('index.html')\n",
    "\n",
    "the_decorator_function(home_page)\n",
    "\n",
    "the_app.run()"
   ]
  },
  {
   "cell_type": "markdown",
   "id": "35b15d7e",
   "metadata": {},
   "source": [
    "----------------------------------------------------------------------------------"
   ]
  },
  {
   "cell_type": "markdown",
   "id": "57d1d400",
   "metadata": {},
   "source": [
    "Setting The Stage For JavaScript"
   ]
  },
  {
   "cell_type": "code",
   "execution_count": 3,
   "id": "4ff0cf51",
   "metadata": {},
   "outputs": [
    {
     "name": "stdout",
     "output_type": "stream",
     "text": [
      " * Serving Flask app '__main__'\n",
      " * Debug mode: off\n"
     ]
    },
    {
     "name": "stderr",
     "output_type": "stream",
     "text": [
      "WARNING: This is a development server. Do not use it in a production deployment. Use a production WSGI server instead.\n",
      " * Running on http://127.0.0.1:5000\n",
      "Press CTRL+C to quit\n",
      "127.0.0.1 - - [11/Sep/2025 02:37:18] \"GET / HTTP/1.1\" 200 -\n",
      "127.0.0.1 - - [11/Sep/2025 02:37:18] \"GET /static/home.js HTTP/1.1\" 200 -\n"
     ]
    }
   ],
   "source": [
    "from flask import Flask, render_template\n",
    "\n",
    "web_app = Flask(import_name = __name__)\n",
    "\n",
    "@web_app.route('/') # route to home page\n",
    "def home_page():\n",
    "    return render_template('home.html')\n",
    "\n",
    "web_app.run()"
   ]
  },
  {
   "cell_type": "markdown",
   "id": "37c788c9",
   "metadata": {},
   "source": [
    "----------------------------------------------------------------------------------"
   ]
  }
 ],
 "metadata": {
  "kernelspec": {
   "display_name": "Python 3",
   "language": "python",
   "name": "python3"
  },
  "language_info": {
   "codemirror_mode": {
    "name": "ipython",
    "version": 3
   },
   "file_extension": ".py",
   "mimetype": "text/x-python",
   "name": "python",
   "nbconvert_exporter": "python",
   "pygments_lexer": "ipython3",
   "version": "3.12.1"
  }
 },
 "nbformat": 4,
 "nbformat_minor": 5
}
