{
 "cells": [
  {
   "cell_type": "markdown",
   "id": "21253e9f",
   "metadata": {},
   "source": [
    "\"Actually Programming\" Assignment"
   ]
  },
  {
   "cell_type": "code",
   "execution_count": 7,
   "id": "4b48645a",
   "metadata": {},
   "outputs": [
    {
     "name": "stdout",
     "output_type": "stream",
     "text": [
      "The price of bread is 1.0\n",
      "The price of milk is 3.0\n",
      "Your total today will be 4.24 including tax.\n"
     ]
    }
   ],
   "source": [
    "bread = 1.00\n",
    "milk = 3.00\n",
    "\n",
    "print(\"The price of bread is\", bread)\n",
    "print(\"The price of milk is\", milk)\n",
    "\n",
    "def total(a, b):\n",
    "    items = a + b\n",
    "    total_price = items * 1.06\n",
    "    return total_price\n",
    "\n",
    "print(\"Your total today will be\", total(bread, milk), \"including tax.\")"
   ]
  },
  {
   "cell_type": "markdown",
   "id": "8d5f0f95",
   "metadata": {},
   "source": [
    "----------------------------------------------------------------------------------"
   ]
  },
  {
   "cell_type": "markdown",
   "id": "b0013745",
   "metadata": {},
   "source": [
    "Utilizing Functions Assignment"
   ]
  },
  {
   "cell_type": "code",
   "execution_count": 1,
   "id": "2f266d1b",
   "metadata": {},
   "outputs": [
    {
     "name": "stdout",
     "output_type": "stream",
     "text": [
      "Your name is, Eric!\n"
     ]
    }
   ],
   "source": [
    "user_name = input(\"What is your name>:\")\n",
    "print(\"Your name is,\", user_name + \"!\")"
   ]
  },
  {
   "cell_type": "code",
   "execution_count": null,
   "id": "afea8297",
   "metadata": {},
   "outputs": [
    {
     "name": "stdout",
     "output_type": "stream",
     "text": [
      "The length of the list is 3\n",
      "The sum of the list is 6\n"
     ]
    }
   ],
   "source": [
    "x = [1, 2, 3] #this is a list\n",
    "\n",
    "length = len(x)\n",
    "print(\"The length of the list is\", length)\n",
    "\n",
    "Sum = sum(x)\n",
    "print(\"The sum of the list is\", Sum)"
   ]
  },
  {
   "cell_type": "markdown",
   "id": "8db26c07",
   "metadata": {},
   "source": [
    "----------------------------------------------------------------------------------"
   ]
  },
  {
   "cell_type": "markdown",
   "id": "5b39320f",
   "metadata": {},
   "source": [
    "Manipulating variables assignment."
   ]
  },
  {
   "cell_type": "markdown",
   "id": "522c0f95",
   "metadata": {},
   "source": [
    "1. Write a Python program that:\n",
    "\n",
    "Asks the user for the price of a coffee and a pastry.\n",
    "Adds the prices together.\n",
    "Prints the total cost."
   ]
  },
  {
   "cell_type": "code",
   "execution_count": 6,
   "id": "2f4c0b9c",
   "metadata": {},
   "outputs": [
    {
     "name": "stdout",
     "output_type": "stream",
     "text": [
      "The total price is 8.56\n"
     ]
    }
   ],
   "source": [
    "coffeePrice = input(\"What is the price of coffee? >:\")\n",
    "coffeePrice = float(coffeePrice)\n",
    "pastryPrice = input(\"What is the price of pastry? >:\")\n",
    "pastryPrice = float(pastryPrice)\n",
    "totalPrice = coffeePrice + pastryPrice\n",
    "print(\"The total price is\", totalPrice)"
   ]
  },
  {
   "cell_type": "markdown",
   "id": "f1dd205f",
   "metadata": {},
   "source": [
    "----------------------------------------------------------------------------------"
   ]
  },
  {
   "cell_type": "markdown",
   "id": "35d4690a",
   "metadata": {},
   "source": [
    "Implementing Conditional Logic"
   ]
  },
  {
   "cell_type": "code",
   "execution_count": 6,
   "id": "f1568452",
   "metadata": {},
   "outputs": [
    {
     "name": "stdout",
     "output_type": "stream",
     "text": [
      "It's either super hot or super cold. Either way, STAY INSIDE!.\n"
     ]
    }
   ],
   "source": [
    "temp = int(input(\"What is the temperature in celcius? >:\")) # storing input as an integer\n",
    "raining = input(\"Is it raining? (yes/no) >:\").lower() # storing input as a string and converting to lowercase\n",
    "\n",
    "if temp >= 1 and temp <= 20:\n",
    "    print(\"You might want to wear a jacket.\")\n",
    "    if raining == \"yes\":\n",
    "        print(\"Don't forget your umbrella!\")\n",
    "elif temp <= 0:\n",
    "    print(\"You'd better BUNDLE UP!\")\n",
    "    if raining == \"yes\":\n",
    "        print(\"Don't forget your SNOW BOOTS!\")\n",
    "elif temp > 20 and temp <= 38:\n",
    "    print(\"You can wear a t-shirt today!\")\n",
    "    if raining == \"yes\":\n",
    "        print(\"Don't forget your umbrella!\")\n",
    "else:\n",
    "    print(\"It's either super hot or super cold. Either way, STAY INSIDE!.\")"
   ]
  },
  {
   "cell_type": "markdown",
   "id": "72046ebe",
   "metadata": {},
   "source": [
    "----------------------------------------------------------------------------------"
   ]
  },
  {
   "cell_type": "markdown",
   "id": "372d3753",
   "metadata": {},
   "source": [
    "Accessing Elements"
   ]
  },
  {
   "cell_type": "code",
   "execution_count": 3,
   "id": "55f3c356",
   "metadata": {},
   "outputs": [
    {
     "name": "stdout",
     "output_type": "stream",
     "text": [
      "Aria\n",
      "Eric\n"
     ]
    }
   ],
   "source": [
    "erics_dict = {}\n",
    "\n",
    "randoms = ['Scooby', 'Aria', 'Dad']\n",
    "\n",
    "randoms[2] = 'Father'\n",
    "\n",
    "# print(randoms)\n",
    "\n",
    "erics_dict['name'] = 'Eric'\n",
    "\n",
    "# print(erics_dict)\n",
    "\n",
    "print(randoms[1])\n",
    "print(erics_dict['name'])"
   ]
  },
  {
   "cell_type": "markdown",
   "metadata": {},
   "source": [
    "----------------------------------------------------------------------------------"
   ]
  },
  {
   "cell_type": "markdown",
   "metadata": {},
   "source": [
    "Applications of Lists and Dictionaries"
   ]
  },
  {
   "cell_type": "code",
   "execution_count": 19,
   "id": "8f0c0362",
   "metadata": {},
   "outputs": [
    {
     "name": "stdout",
     "output_type": "stream",
     "text": [
      "[{'Title': 'Tribe', 'Author': 'Sebastian Junger', 'Year Published': 2019, 'Available': True}, {'Title': 'Sapiens', 'Author': 'Yuval Harrari', 'Year Published': 2016, 'Available': True}]\n",
      "---------------------------------\n",
      "{'Title': 'Tribe', 'Author': 'Sebastian Junger', 'Year Published': 2019, 'Available': False}\n",
      "---------------------------------\n"
     ]
    },
    {
     "data": {
      "text/plain": [
       "[{'Title': 'Tribe',\n",
       "  'Author': 'Sebastian Junger',\n",
       "  'Year Published': 2019,\n",
       "  'Available': False},\n",
       " {'Title': 'Sapiens',\n",
       "  'Author': 'Yuval Harrari',\n",
       "  'Year Published': 2016,\n",
       "  'Available': True},\n",
       " {'Title': 'The Great Gatsby',\n",
       "  'Author': 'F. Scott Fitzgerald',\n",
       "  'Year Published': 1925,\n",
       "  'Available': True}]"
      ]
     },
     "metadata": {},
     "output_type": "display_data"
    }
   ],
   "source": [
    "library = [{\n",
    "    'Title': 'Tribe',\n",
    "    'Author': 'Sebastian Junger',\n",
    "    'Year Published' : 2019,\n",
    "    'Available' : True,\n",
    "    },\n",
    "    {\n",
    "    'Title': 'Sapiens',\n",
    "    'Author': 'Yuval Harrari',\n",
    "    'Year Published' : 2016,\n",
    "    'Available' : True,\n",
    "    }]\n",
    "\n",
    "print(library)\n",
    "print(\"---------------------------------\")\n",
    "\n",
    "library[0][\"Available\"] = False\n",
    "\n",
    "print(library[0])\n",
    "print(\"---------------------------------\")\n",
    "\n",
    "gatsby = {\n",
    "    'Title': 'The Great Gatsby',\n",
    "    'Author': 'F. Scott Fitzgerald',\n",
    "    'Year Published' : 1925,\n",
    "    'Available' : True,\n",
    "    }\n",
    "\n",
    "library.append(gatsby)\n",
    "\n",
    "display(library)"
   ]
  },
  {
   "cell_type": "markdown",
   "id": "b955f23a",
   "metadata": {},
   "source": [
    "----------------------------------------------------------------------------------"
   ]
  },
  {
   "cell_type": "markdown",
   "id": "f4061611",
   "metadata": {},
   "source": [
    "Applying Loops Assignment\n",
    "\n",
    "Objective: Calculate average grades and determine pass/fail status for students."
   ]
  },
  {
   "cell_type": "code",
   "execution_count": null,
   "id": "664bd8e0",
   "metadata": {},
   "outputs": [
    {
     "name": "stdout",
     "output_type": "stream",
     "text": [
      "\n",
      "Student Grades.\n",
      "      name                grades    average status\n",
      "0     Eric    [69.0, 69.0, 69.0]  69.000000   Fail\n",
      "1    Chris   [89.0, 98.0, 100.0]  95.666667   Pass\n",
      "2  Javonte  [100.0, 100.0, 99.0]  99.666667   Pass\n",
      "\n",
      "Class average is: 83.00\n",
      "High Performing Class!!!\n"
     ]
    }
   ],
   "source": [
    "import pandas as pd\n",
    "\n",
    "students = []\n",
    "\n",
    "while True:\n",
    "    student_name = input(\"Enter student name (or type 'done' to finish): \")\n",
    "    if student_name.lower() == 'done':\n",
    "        break\n",
    "    grades = []\n",
    "    while True:\n",
    "        grade_input = input(f\"Enter a grade for {student_name} (or 'q' to finish grades): \")\n",
    "        if grade_input.lower() == 'q':\n",
    "            break\n",
    "        try:\n",
    "            grade = float(grade_input)\n",
    "            grades.append(grade)\n",
    "        except ValueError:\n",
    "            print(\"Invalid input. Please enter a valid number.\")\n",
    "    if grades:  # Check if the list is not empty\n",
    "        average_grade = sum(grades) / len(grades)\n",
    "    else:\n",
    "        average_grade = 0.0  # Assign a default value if no grades are entered\n",
    "\n",
    "    if average_grade >= 70:\n",
    "        pass_fail_status = 'Pass'\n",
    "    else:\n",
    "        pass_fail_status = 'Fail'\n",
    "        \n",
    "    students.append({'name': student_name, 'grades': grades, 'average': average_grade, 'status': pass_fail_status})\n",
    "\n",
    "\n",
    "student_chart = pd.DataFrame(students)\n",
    "print(\"\\nStudent Grades.\")\n",
    "print(student_chart) # This will show you the final list of dictionaries\n",
    "print(f\"\\nClass average is: {class_average:.2f}\")\n",
    "\n",
    "\n",
    "class_average = sum(student['average'] for student in students) / len(students) if students else 0.0\n",
    "if class_average >= 80:\n",
    "    print(\"High Performing Class!!!\")\n",
    "else:\n",
    "    print(\"Y'all get yer ish together!\")\n",
    "\n",
    "    \n",
    "\n",
    "    "
   ]
  },
  {
   "cell_type": "markdown",
   "id": "de365785",
   "metadata": {},
   "source": [
    "----------------------------------------------------------------------------------"
   ]
  },
  {
   "cell_type": "markdown",
   "id": "c70e705a",
   "metadata": {},
   "source": [
    "Adding functions Parameters Assignment"
   ]
  },
  {
   "cell_type": "code",
   "execution_count": 8,
   "id": "cd11cabb",
   "metadata": {},
   "outputs": [
    {
     "name": "stdout",
     "output_type": "stream",
     "text": [
      "Simon Says: JUMP!\n"
     ]
    }
   ],
   "source": [
    "def follow_me(instruction = \"\"): # womp womp\n",
    "    instruction = input(\"What does Simon say?\")\n",
    "    if instruction == \"\":\n",
    "        instruction = \"nothing\"\n",
    "    print(\"Simon Says:\", instruction)\n",
    "\n",
    "follow_me()"
   ]
  },
  {
   "cell_type": "markdown",
   "id": "956d7092",
   "metadata": {},
   "source": [
    "----------------------------------------------------------------------------------"
   ]
  },
  {
   "cell_type": "markdown",
   "id": "252021f3",
   "metadata": {},
   "source": [
    "Returning Information From A Function Assignment"
   ]
  },
  {
   "cell_type": "code",
   "execution_count": 11,
   "id": "1434b288",
   "metadata": {},
   "outputs": [
    {
     "name": "stdout",
     "output_type": "stream",
     "text": [
      "You have chosen the path of the Jedi.\n"
     ]
    }
   ],
   "source": [
    "def luuuke_come_to_the_dark_side(decision = \"\"):\n",
    "    decision = input(\"Join us, Luke. Do you accept the power of the dark side? (yes/no) \")\n",
    "    if decision.lower() == \"yes\":\n",
    "        return \"Welcome to the dark side!\"\n",
    "    elif decision.lower() == \"no\":\n",
    "        return \"You have chosen the path of the Jedi.\"\n",
    "    else:\n",
    "        return \"Indecision is the path to the dark side.\"\n",
    "    \n",
    "decision = luuuke_come_to_the_dark_side()\n",
    "    \n",
    "print(decision)"
   ]
  },
  {
   "cell_type": "markdown",
   "id": "31863104",
   "metadata": {},
   "source": [
    "----------------------------------------------------------------------------------"
   ]
  },
  {
   "cell_type": "markdown",
   "id": "95e19ea4",
   "metadata": {},
   "source": [
    "Applying Custom Functions"
   ]
  },
  {
   "cell_type": "code",
   "execution_count": 17,
   "id": "bd351193",
   "metadata": {},
   "outputs": [
    {
     "name": "stdout",
     "output_type": "stream",
     "text": [
      "Hi eric It's sunny outside,  go to the park\n",
      "Hi eric It's rainy outside,  stay in for the day\n",
      "Hi sunny It's snowy outside,  go sledding\n",
      "Hi chris It's sunny outside,  go to the park\n",
      "Hi chris It's rainy outside,  stay in for the day\n",
      "Hi chris It's snowy outside,  go sledding\n",
      "That's not a valid weather condition for this question...\n",
      "Hi aria It's sunny outside,  go to the park\n",
      "Hi aria It's rainy outside,  stay in for the day\n",
      "Hi aria It's snowy outside,  go sledding\n",
      "That's not a valid weather condition for this question...\n",
      "Hi trico It's sunny outside,  go to the park\n"
     ]
    }
   ],
   "source": [
    "# setting default variables\n",
    "task_message = \"\" \n",
    "name = \"\"\n",
    "weather_condition = \"\"\n",
    "\n",
    "# defining our sub functions\n",
    "def sunny_activity(task_message, name): \n",
    "    print(\"Hi\", name, \"It's sunny outside, \", task_message)\n",
    "\n",
    "def rainy_activity(task_message, name):\n",
    "    print(\"Hi\", name, \"It's rainy outside, \", task_message)\n",
    "\n",
    "def snowy_activity(task_message, name):\n",
    "    print(\"Hi\", name, \"It's snowy outside, \", task_message)\n",
    "\n",
    "# defining our main function\n",
    "def activity_suggestion(task_message, weather_condition, name):\n",
    "    name = input(\"What is your name? \")\n",
    "    weather_condition = input(\"What's the weather like outside? sunny/rainy/snowy \")\n",
    "    if weather_condition == \"sunny\":\n",
    "        task_message = \"go to the park\"\n",
    "        sunny_activity(task_message, name)\n",
    "    elif weather_condition == \"rainy\":\n",
    "        task_message = \"stay in for the day\"\n",
    "        rainy_activity(task_message, name)\n",
    "    elif weather_condition == \"snowy\":\n",
    "        task_message = \"go sledding\"\n",
    "        snowy_activity(task_message, name)\n",
    "    else:\n",
    "        print(\"That's not a valid weather condition for this question...\")\n",
    "\n",
    "# testing 12 times\n",
    "activity_suggestion(task_message, weather_condition, name)\n",
    "activity_suggestion(task_message, weather_condition, name)\n",
    "activity_suggestion(task_message, weather_condition, name)\n",
    "activity_suggestion(task_message, weather_condition, name)\n",
    "activity_suggestion(task_message, weather_condition, name)\n",
    "activity_suggestion(task_message, weather_condition, name)\n",
    "activity_suggestion(task_message, weather_condition, name)\n",
    "activity_suggestion(task_message, weather_condition, name)\n",
    "activity_suggestion(task_message, weather_condition, name)\n",
    "activity_suggestion(task_message, weather_condition, name)\n",
    "activity_suggestion(task_message, weather_condition, name)\n",
    "activity_suggestion(task_message, weather_condition, name)\n"
   ]
  },
  {
   "cell_type": "markdown",
   "metadata": {},
   "source": [
    "----------------------------------------------------------------------------------"
   ]
  },
  {
   "cell_type": "markdown",
   "id": "fe27ad4a",
   "metadata": {},
   "source": [
    "Custom Classes Assignment"
   ]
  },
  {
   "cell_type": "code",
   "execution_count": null,
   "id": "95a3fd27",
   "metadata": {},
   "outputs": [],
   "source": [
    "class Dog:\n",
    "    pass\n",
    "\n",
    "class Cat:\n",
    "    pass\n",
    "\n",
    "class Bird:\n",
    "    pass"
   ]
  },
  {
   "cell_type": "markdown",
   "id": "14b22c54",
   "metadata": {},
   "source": [
    "----------------------------------------------------------------------------------"
   ]
  },
  {
   "cell_type": "markdown",
   "id": "f40167c5",
   "metadata": {},
   "source": [
    "Introduction to Custom Methods Assignment"
   ]
  },
  {
   "cell_type": "code",
   "execution_count": null,
   "id": "5773a594",
   "metadata": {},
   "outputs": [
    {
     "name": "stdout",
     "output_type": "stream",
     "text": [
      "Woof!\n",
      "Meow!\n",
      "Chirp!\n"
     ]
    }
   ],
   "source": [
    "class Dog:\n",
    "    def bark(self):\n",
    "        print(\"Woof!\")\n",
    "\n",
    "class Cat:\n",
    "    def meow(self):\n",
    "        print(\"Meow!\")\n",
    "\n",
    "class Bird:\n",
    "    def chirp(self):\n",
    "        print(\"Chirp!\")\n",
    "\n",
    "the_dog = Dog()\n",
    "the_cat = Cat()\n",
    "the_bird = Bird()\n",
    "\n",
    "the_dog.bark()\n",
    "the_cat.meow()\n",
    "the_bird.chirp()"
   ]
  },
  {
   "cell_type": "markdown",
   "id": "8da90b58",
   "metadata": {},
   "source": [
    "----------------------------------------------------------------------------------"
   ]
  },
  {
   "cell_type": "markdown",
   "id": "8b8befb6",
   "metadata": {},
   "source": [
    "Enforcing Inheritance Assignment"
   ]
  },
  {
   "cell_type": "code",
   "execution_count": null,
   "id": "0964afba",
   "metadata": {},
   "outputs": [
    {
     "name": "stdout",
     "output_type": "stream",
     "text": [
      "The living thing has grown! The size is now 0.2\n",
      "The flower has grown more beautiful!, the beauty is now 1\n",
      "The living thing has grown! The size is now 0.4\n",
      "The flower has grown more beautiful!, the beauty is now 2\n",
      "The living thing has grown! The size is now 0.8\n",
      "The flower has grown more beautiful!, the beauty is now 3\n"
     ]
    }
   ],
   "source": [
    "class LivingThing:\n",
    "    def start(self):\n",
    "        self.running = True\n",
    "        self.size = 0.1\n",
    "    def grow(self):\n",
    "        self.size = self.size*2\n",
    "        print(\"The living thing has grown! The size is now\", self.size)\n",
    "\n",
    "class Plant(LivingThing):\n",
    "    pass\n",
    "    \n",
    "\n",
    "class Flower(Plant):\n",
    "    def __init__(self):\n",
    "        self.beauty = 0\n",
    "    def grow(self):\n",
    "        super().grow()\n",
    "        self.beauty = self.beauty + 1\n",
    "        print(\"The flower has grown more beautiful!, the beauty is now\", self.beauty)\n",
    "    \n",
    "\n",
    "rose = Flower()\n",
    "rose.start()\n",
    "rose.grow()\n",
    "rose.grow()\n",
    "rose.grow()\n"
   ]
  },
  {
   "cell_type": "code",
   "execution_count": 24,
   "id": "736dc88d",
   "metadata": {},
   "outputs": [
    {
     "name": "stdout",
     "output_type": "stream",
     "text": [
      "Testing the Beagle class:\n",
      "     \n",
      "The pet is now outside.\n",
      "The pet is now inside.\n",
      "Howl!\n",
      "---------------------------------\n",
      "\n",
      "Testing the Dog class:\n",
      "     \n",
      "The pet is now outside.\n",
      "The pet is now inside.\n",
      "Bark!\n"
     ]
    }
   ],
   "source": [
    "class Pet:\n",
    "    def start(self):\n",
    "        self.running = True\n",
    "    def __init__(self):\n",
    "        self.inside = True\n",
    "        self.outside = False\n",
    "    def go_inside(self):\n",
    "        self.inside = True\n",
    "        self.outside = False\n",
    "        print(\"The pet is now inside.\")\n",
    "    def go_outside(self):\n",
    "        self.inside = False\n",
    "        self.outside = True\n",
    "        print(\"The pet is now outside.\")\n",
    "\n",
    "class Dog(Pet):\n",
    "    def talk(self):\n",
    "        print(\"Bark!\") \n",
    "\n",
    "class Beagle(Dog):\n",
    "    def talk(self):\n",
    "        print(\"Howl!\")\n",
    "\n",
    "print(\"Testing the Beagle class:\")\n",
    "print(\"     \")\n",
    "the_dog = Beagle()\n",
    "the_dog.start()\n",
    "the_dog.go_outside()\n",
    "the_dog.go_inside()\n",
    "the_dog.talk()\n",
    "\n",
    "print(\"---------------------------------\")\n",
    "\n",
    "print(\"\\nTesting the Dog class:\")\n",
    "print(\"     \")\n",
    "mutt = Dog()\n",
    "mutt.start()\n",
    "mutt.go_outside()\n",
    "mutt.go_inside()\n",
    "mutt.talk()"
   ]
  },
  {
   "cell_type": "markdown",
   "id": "84e2aebe",
   "metadata": {},
   "source": [
    "----------------------------------------------------------------------------------"
   ]
  },
  {
   "cell_type": "markdown",
   "id": "caec8425",
   "metadata": {},
   "source": [
    "Applying Composition"
   ]
  },
  {
   "cell_type": "code",
   "execution_count": 25,
   "id": "40881ad4",
   "metadata": {},
   "outputs": [],
   "source": [
    "class Collar:\n",
    "    def __init__(self):\n",
    "        self.name_string = \"\"\n",
    "        self.color = \"\"\n",
    "        self.size = \"\"\n",
    "        self.is_tracked = True\n",
    "\n",
    "class BestFriendPet:\n",
    "    def __init__(self):\n",
    "        self.collar = Collar() \n",
    "\n",
    "class Person:\n",
    "    def __init__(self):\n",
    "        self.pet = BestFriendPet()\n",
    "    "
   ]
  },
  {
   "cell_type": "markdown",
   "id": "ecff5d4c",
   "metadata": {},
   "source": [
    "----------------------------------------------------------------------------------"
   ]
  },
  {
   "cell_type": "markdown",
   "id": "c9b4523a",
   "metadata": {},
   "source": [
    "Applying Custom Libraries"
   ]
  },
  {
   "cell_type": "code",
   "execution_count": 1,
   "id": "58854a6a",
   "metadata": {},
   "outputs": [
    {
     "name": "stdout",
     "output_type": "stream",
     "text": [
      "Function One from function_one.py\n",
      "Function Two from function_two.py\n",
      "Method One from ClassOne\n",
      "Method Two from ClassTwo\n"
     ]
    }
   ],
   "source": [
    "from custom_lib.functions.function_one import function_one\n",
    "from custom_lib.functions.function_two import function_two\n",
    "from custom_lib.classes.ClassOne import ClassOne\n",
    "from custom_lib.classes.ClassTwo import ClassTwo\n",
    "\n",
    "function_one()\n",
    "function_two()\n",
    "ClassOne().method_one()\n",
    "ClassTwo().method_two()"
   ]
  },
  {
   "cell_type": "markdown",
   "id": "706225bf",
   "metadata": {},
   "source": [
    "----------------------------------------------------------------------------------"
   ]
  },
  {
   "cell_type": "markdown",
   "id": "e317e774",
   "metadata": {},
   "source": [
    "Applying Exception Handling"
   ]
  },
  {
   "cell_type": "code",
   "execution_count": null,
   "id": "33528bb3",
   "metadata": {},
   "outputs": [],
   "source": []
  },
  {
   "cell_type": "markdown",
   "id": "21de6f50",
   "metadata": {},
   "source": [
    "----------------------------------------------------------------------------------"
   ]
  },
  {
   "cell_type": "markdown",
   "id": "79e77e96",
   "metadata": {},
   "source": [
    "Creating a Running Web App"
   ]
  },
  {
   "cell_type": "code",
   "execution_count": 2,
   "id": "a04617d3",
   "metadata": {},
   "outputs": [
    {
     "name": "stdout",
     "output_type": "stream",
     "text": [
      "Collecting flask\n",
      "  Downloading flask-3.1.2-py3-none-any.whl.metadata (3.2 kB)\n",
      "Collecting blinker>=1.9.0 (from flask)\n",
      "  Downloading blinker-1.9.0-py3-none-any.whl.metadata (1.6 kB)\n",
      "Collecting click>=8.1.3 (from flask)\n",
      "  Downloading click-8.2.1-py3-none-any.whl.metadata (2.5 kB)\n",
      "Collecting itsdangerous>=2.2.0 (from flask)\n",
      "  Downloading itsdangerous-2.2.0-py3-none-any.whl.metadata (1.9 kB)\n",
      "Requirement already satisfied: jinja2>=3.1.2 in /home/codespace/.local/lib/python3.12/site-packages (from flask) (3.1.6)\n",
      "Requirement already satisfied: markupsafe>=2.1.1 in /home/codespace/.local/lib/python3.12/site-packages (from flask) (3.0.2)\n",
      "Collecting werkzeug>=3.1.0 (from flask)\n",
      "  Downloading werkzeug-3.1.3-py3-none-any.whl.metadata (3.7 kB)\n",
      "Downloading flask-3.1.2-py3-none-any.whl (103 kB)\n",
      "Downloading blinker-1.9.0-py3-none-any.whl (8.5 kB)\n",
      "Downloading click-8.2.1-py3-none-any.whl (102 kB)\n",
      "Downloading itsdangerous-2.2.0-py3-none-any.whl (16 kB)\n",
      "Downloading werkzeug-3.1.3-py3-none-any.whl (224 kB)\n",
      "Installing collected packages: werkzeug, itsdangerous, click, blinker, flask\n",
      "\u001b[2K   \u001b[90m━━━━━━━━━━━━━━━━━━━━━━━━━━━━━━━━━━━━━━━━\u001b[0m \u001b[32m5/5\u001b[0m [flask]32m2/5\u001b[0m [click]\n",
      "\u001b[1A\u001b[2KSuccessfully installed blinker-1.9.0 click-8.2.1 flask-3.1.2 itsdangerous-2.2.0 werkzeug-3.1.3\n",
      "\n",
      "\u001b[1m[\u001b[0m\u001b[34;49mnotice\u001b[0m\u001b[1;39;49m]\u001b[0m\u001b[39;49m A new release of pip is available: \u001b[0m\u001b[31;49m25.1.1\u001b[0m\u001b[39;49m -> \u001b[0m\u001b[32;49m25.2\u001b[0m\n",
      "\u001b[1m[\u001b[0m\u001b[34;49mnotice\u001b[0m\u001b[1;39;49m]\u001b[0m\u001b[39;49m To update, run: \u001b[0m\u001b[32;49mpython3 -m pip install --upgrade pip\u001b[0m\n"
     ]
    }
   ],
   "source": [
    "!pip install flask"
   ]
  },
  {
   "cell_type": "code",
   "execution_count": 4,
   "id": "38543db9",
   "metadata": {},
   "outputs": [
    {
     "name": "stdout",
     "output_type": "stream",
     "text": [
      " * Serving Flask app '__main__'\n",
      " * Debug mode: off\n"
     ]
    },
    {
     "name": "stderr",
     "output_type": "stream",
     "text": [
      "WARNING: This is a development server. Do not use it in a production deployment. Use a production WSGI server instead.\n",
      " * Running on http://127.0.0.1:5000\n",
      "Press CTRL+C to quit\n"
     ]
    }
   ],
   "source": [
    "from flask import Flask\n",
    "\n",
    "web_app = Flask(import_name = __name__)\n",
    "\n",
    "web_app.run()"
   ]
  },
  {
   "cell_type": "markdown",
   "id": "334f5041",
   "metadata": {},
   "source": [
    "----------------------------------------------------------------------------------"
   ]
  }
 ],
 "metadata": {
  "kernelspec": {
   "display_name": "Python 3",
   "language": "python",
   "name": "python3"
  },
  "language_info": {
   "codemirror_mode": {
    "name": "ipython",
    "version": 3
   },
   "file_extension": ".py",
   "mimetype": "text/x-python",
   "name": "python",
   "nbconvert_exporter": "python",
   "pygments_lexer": "ipython3",
   "version": "3.12.1"
  }
 },
 "nbformat": 4,
 "nbformat_minor": 5
}
