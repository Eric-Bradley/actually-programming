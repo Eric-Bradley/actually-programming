{
 "cells": [
  {
   "cell_type": "markdown",
   "id": "21253e9f",
   "metadata": {},
   "source": [
    "\"Actually Programming\" Assignment"
   ]
  },
  {
   "cell_type": "code",
   "execution_count": 7,
   "id": "4b48645a",
   "metadata": {},
   "outputs": [
    {
     "name": "stdout",
     "output_type": "stream",
     "text": [
      "The price of bread is 1.0\n",
      "The price of milk is 3.0\n",
      "Your total today will be 4.24 including tax.\n"
     ]
    }
   ],
   "source": [
    "bread = 1.00\n",
    "milk = 3.00\n",
    "\n",
    "print(\"The price of bread is\", bread)\n",
    "print(\"The price of milk is\", milk)\n",
    "\n",
    "def total(a, b):\n",
    "    items = a + b\n",
    "    total_price = items * 1.06\n",
    "    return total_price\n",
    "\n",
    "print(\"Your total today will be\", total(bread, milk), \"including tax.\")"
   ]
  },
  {
   "cell_type": "markdown",
   "id": "8d5f0f95",
   "metadata": {},
   "source": [
    "----------------------------------------------------------------------------------"
   ]
  },
  {
   "cell_type": "markdown",
   "id": "b0013745",
   "metadata": {},
   "source": [
    "Utilizing Functions Assignment"
   ]
  },
  {
   "cell_type": "code",
   "execution_count": 1,
   "id": "2f266d1b",
   "metadata": {},
   "outputs": [
    {
     "name": "stdout",
     "output_type": "stream",
     "text": [
      "Your name is, Eric!\n"
     ]
    }
   ],
   "source": [
    "user_name = input(\"What is your name>:\")\n",
    "print(\"Your name is,\", user_name + \"!\")"
   ]
  },
  {
   "cell_type": "code",
   "execution_count": null,
   "id": "afea8297",
   "metadata": {},
   "outputs": [
    {
     "name": "stdout",
     "output_type": "stream",
     "text": [
      "The length of the list is 3\n",
      "The sum of the list is 6\n"
     ]
    }
   ],
   "source": [
    "x = [1, 2, 3] #this is a list\n",
    "\n",
    "length = len(x)\n",
    "print(\"The length of the list is\", length)\n",
    "\n",
    "Sum = sum(x)\n",
    "print(\"The sum of the list is\", Sum)"
   ]
  },
  {
   "cell_type": "markdown",
   "id": "8db26c07",
   "metadata": {},
   "source": [
    "----------------------------------------------------------------------------------"
   ]
  },
  {
   "cell_type": "markdown",
   "id": "5b39320f",
   "metadata": {},
   "source": [
    "Manipulating variables assignment."
   ]
  },
  {
   "cell_type": "markdown",
   "id": "522c0f95",
   "metadata": {},
   "source": [
    "1. Write a Python program that:\n",
    "\n",
    "Asks the user for the price of a coffee and a pastry.\n",
    "Adds the prices together.\n",
    "Prints the total cost."
   ]
  },
  {
   "cell_type": "code",
   "execution_count": 6,
   "id": "2f4c0b9c",
   "metadata": {},
   "outputs": [
    {
     "name": "stdout",
     "output_type": "stream",
     "text": [
      "The total price is 8.56\n"
     ]
    }
   ],
   "source": [
    "coffeePrice = input(\"What is the price of coffee? >:\")\n",
    "coffeePrice = float(coffeePrice)\n",
    "pastryPrice = input(\"What is the price of pastry? >:\")\n",
    "pastryPrice = float(pastryPrice)\n",
    "totalPrice = coffeePrice + pastryPrice\n",
    "print(\"The total price is\", totalPrice)"
   ]
  },
  {
   "cell_type": "markdown",
   "id": "f1dd205f",
   "metadata": {},
   "source": [
    "----------------------------------------------------------------------------------"
   ]
  },
  {
   "cell_type": "markdown",
   "id": "35d4690a",
   "metadata": {},
   "source": [
    "Implementing Conditional Logic"
   ]
  },
  {
   "cell_type": "code",
   "execution_count": 6,
   "id": "f1568452",
   "metadata": {},
   "outputs": [
    {
     "name": "stdout",
     "output_type": "stream",
     "text": [
      "It's either super hot or super cold. Either way, STAY INSIDE!.\n"
     ]
    }
   ],
   "source": [
    "temp = int(input(\"What is the temperature in celcius? >:\")) # storing input as an integer\n",
    "raining = input(\"Is it raining? (yes/no) >:\").lower() # storing input as a string and converting to lowercase\n",
    "\n",
    "if temp >= 1 and temp <= 20:\n",
    "    print(\"You might want to wear a jacket.\")\n",
    "    if raining == \"yes\":\n",
    "        print(\"Don't forget your umbrella!\")\n",
    "elif temp <= 0:\n",
    "    print(\"You'd better BUNDLE UP!\")\n",
    "    if raining == \"yes\":\n",
    "        print(\"Don't forget your SNOW BOOTS!\")\n",
    "elif temp > 20 and temp <= 38:\n",
    "    print(\"You can wear a t-shirt today!\")\n",
    "    if raining == \"yes\":\n",
    "        print(\"Don't forget your umbrella!\")\n",
    "else:\n",
    "    print(\"It's either super hot or super cold. Either way, STAY INSIDE!.\")"
   ]
  },
  {
   "cell_type": "markdown",
   "id": "72046ebe",
   "metadata": {},
   "source": [
    "----------------------------------------------------------------------------------"
   ]
  },
  {
   "cell_type": "markdown",
   "id": "372d3753",
   "metadata": {},
   "source": [
    "Accessing Elements"
   ]
  },
  {
   "cell_type": "code",
   "execution_count": 3,
   "id": "55f3c356",
   "metadata": {},
   "outputs": [
    {
     "name": "stdout",
     "output_type": "stream",
     "text": [
      "Aria\n",
      "Eric\n"
     ]
    }
   ],
   "source": [
    "erics_dict = {}\n",
    "\n",
    "randoms = ['Scooby', 'Aria', 'Dad']\n",
    "\n",
    "randoms[2] = 'Father'\n",
    "\n",
    "# print(randoms)\n",
    "\n",
    "erics_dict['name'] = 'Eric'\n",
    "\n",
    "# print(erics_dict)\n",
    "\n",
    "print(randoms[1])\n",
    "print(erics_dict['name'])"
   ]
  }
 ],
 "metadata": {
  "kernelspec": {
   "display_name": "Python 3",
   "language": "python",
   "name": "python3"
  },
  "language_info": {
   "codemirror_mode": {
    "name": "ipython",
    "version": 3
   },
   "file_extension": ".py",
   "mimetype": "text/x-python",
   "name": "python",
   "nbconvert_exporter": "python",
   "pygments_lexer": "ipython3",
   "version": "3.12.1"
  }
 },
 "nbformat": 4,
 "nbformat_minor": 5
}
