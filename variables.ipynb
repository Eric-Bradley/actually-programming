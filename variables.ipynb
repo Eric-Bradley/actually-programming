{
 "cells": [
  {
   "cell_type": "code",
   "execution_count": 7,
   "id": "4b48645a",
   "metadata": {},
   "outputs": [
    {
     "name": "stdout",
     "output_type": "stream",
     "text": [
      "The price of bread is 1.0\n",
      "The price of milk is 3.0\n",
      "Your total today will be 4.24 including tax.\n"
     ]
    }
   ],
   "source": [
    "bread = 1.00\n",
    "milk = 3.00\n",
    "\n",
    "print(\"The price of bread is\", bread)\n",
    "print(\"The price of milk is\", milk)\n",
    "\n",
    "def total(a, b):\n",
    "    items = a + b\n",
    "    total_price = items * 1.06\n",
    "    return total_price\n",
    "\n",
    "print(\"Your total today will be\", total(bread, milk), \"including tax.\")"
   ]
  }
 ],
 "metadata": {
  "kernelspec": {
   "display_name": "Python 3",
   "language": "python",
   "name": "python3"
  },
  "language_info": {
   "codemirror_mode": {
    "name": "ipython",
    "version": 3
   },
   "file_extension": ".py",
   "mimetype": "text/x-python",
   "name": "python",
   "nbconvert_exporter": "python",
   "pygments_lexer": "ipython3",
   "version": "3.12.1"
  }
 },
 "nbformat": 4,
 "nbformat_minor": 5
}
